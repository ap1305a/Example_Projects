{
 "cells": [
  {
   "cell_type": "code",
   "execution_count": 106,
   "metadata": {},
   "outputs": [],
   "source": [
    "import pandas as pd\n",
    "import numpy as np\n",
    "import scipy.stats as stats\n",
    "import matplotlib.pyplot as plt\n",
    "import seaborn as sns\n",
    "import statsmodels.stats.proportion as proportion\n",
    "import math"
   ]
  },
  {
   "cell_type": "markdown",
   "metadata": {},
   "source": [
    "dataset info: https://nannxiao.github.io/sustain//Progresa-Econometrics-&-Causal-Impact-Analysis.html\n",
    "\n",
    "You can find a list of column names and meanings here.\n"
   ]
  },
  {
   "cell_type": "markdown",
   "metadata": {},
   "source": [
    "On questions of bias, I believe that the experts that design this study accounted for as much as possible.  Without prying too much into the details of the surveys, it is possible that there may be a few areas of concern such as the stakes involved for the government officials and the researchers involved, who had a vested interest in good results.  One issue to point out is that this is only a sample and not the complete dataset.  Addtional years, while more complicated, could've given more time to expose the eligible citizens to the program and made the results more robust.  Again, I think the researchers for this project did a great job; there is a reason this study is famous in the field.  For the purposes of a t test, and looking at village level data, more village characteristics would've been helpful like a rough population estimate to give the village some scale.  Avoiding the many attendance null values would've been nice as well for larger samples in smaller villages. Naturally, the continuation/reintroduction of this program as Oportunidades on a larger scale offers opportunities to make a similar study more relevant to the larger Mexican population."
   ]
  },
  {
   "cell_type": "code",
   "execution_count": 107,
   "metadata": {},
   "outputs": [],
   "source": [
    "df = pd.read_csv('https://raw.githubusercontent.com/VaisakhiMishra/Progressa-Analysis-using-Regression-Methods/master/progresa_sample.csv')"
   ]
  },
  {
   "cell_type": "code",
   "execution_count": 108,
   "metadata": {},
   "outputs": [
    {
     "data": {
      "text/html": [
       "<div>\n",
       "<style scoped>\n",
       "    .dataframe tbody tr th:only-of-type {\n",
       "        vertical-align: middle;\n",
       "    }\n",
       "\n",
       "    .dataframe tbody tr th {\n",
       "        vertical-align: top;\n",
       "    }\n",
       "\n",
       "    .dataframe thead th {\n",
       "        text-align: right;\n",
       "    }\n",
       "</style>\n",
       "<table border=\"1\" class=\"dataframe\">\n",
       "  <thead>\n",
       "    <tr style=\"text-align: right;\">\n",
       "      <th></th>\n",
       "      <th>year</th>\n",
       "      <th>sex</th>\n",
       "      <th>indig</th>\n",
       "      <th>dist_sec</th>\n",
       "      <th>sc</th>\n",
       "      <th>grc</th>\n",
       "      <th>fam_n</th>\n",
       "      <th>min_dist</th>\n",
       "      <th>dist_cap</th>\n",
       "      <th>poor</th>\n",
       "      <th>...</th>\n",
       "      <th>hohedu</th>\n",
       "      <th>hohwag</th>\n",
       "      <th>welfare_index</th>\n",
       "      <th>hohsex</th>\n",
       "      <th>hohage</th>\n",
       "      <th>age</th>\n",
       "      <th>village</th>\n",
       "      <th>folnum</th>\n",
       "      <th>grc97</th>\n",
       "      <th>sc97</th>\n",
       "    </tr>\n",
       "  </thead>\n",
       "  <tbody>\n",
       "    <tr>\n",
       "      <td>0</td>\n",
       "      <td>97</td>\n",
       "      <td>0.0</td>\n",
       "      <td>0.0</td>\n",
       "      <td>4.473</td>\n",
       "      <td>1.0</td>\n",
       "      <td>7.0</td>\n",
       "      <td>7</td>\n",
       "      <td>21.168384</td>\n",
       "      <td>21.168384</td>\n",
       "      <td>pobre</td>\n",
       "      <td>...</td>\n",
       "      <td>6</td>\n",
       "      <td>0.0</td>\n",
       "      <td>583.0</td>\n",
       "      <td>1.0</td>\n",
       "      <td>35.0</td>\n",
       "      <td>13</td>\n",
       "      <td>163</td>\n",
       "      <td>1</td>\n",
       "      <td>7</td>\n",
       "      <td>1.0</td>\n",
       "    </tr>\n",
       "    <tr>\n",
       "      <td>1</td>\n",
       "      <td>98</td>\n",
       "      <td>0.0</td>\n",
       "      <td>0.0</td>\n",
       "      <td>4.473</td>\n",
       "      <td>1.0</td>\n",
       "      <td>8.0</td>\n",
       "      <td>7</td>\n",
       "      <td>21.168384</td>\n",
       "      <td>21.168384</td>\n",
       "      <td>pobre</td>\n",
       "      <td>...</td>\n",
       "      <td>6</td>\n",
       "      <td>0.0</td>\n",
       "      <td>583.0</td>\n",
       "      <td>1.0</td>\n",
       "      <td>35.0</td>\n",
       "      <td>14</td>\n",
       "      <td>163</td>\n",
       "      <td>1</td>\n",
       "      <td>7</td>\n",
       "      <td>1.0</td>\n",
       "    </tr>\n",
       "    <tr>\n",
       "      <td>2</td>\n",
       "      <td>97</td>\n",
       "      <td>1.0</td>\n",
       "      <td>0.0</td>\n",
       "      <td>4.473</td>\n",
       "      <td>1.0</td>\n",
       "      <td>6.0</td>\n",
       "      <td>7</td>\n",
       "      <td>21.168384</td>\n",
       "      <td>21.168384</td>\n",
       "      <td>pobre</td>\n",
       "      <td>...</td>\n",
       "      <td>6</td>\n",
       "      <td>0.0</td>\n",
       "      <td>583.0</td>\n",
       "      <td>1.0</td>\n",
       "      <td>35.0</td>\n",
       "      <td>12</td>\n",
       "      <td>163</td>\n",
       "      <td>2</td>\n",
       "      <td>6</td>\n",
       "      <td>1.0</td>\n",
       "    </tr>\n",
       "    <tr>\n",
       "      <td>3</td>\n",
       "      <td>98</td>\n",
       "      <td>1.0</td>\n",
       "      <td>0.0</td>\n",
       "      <td>4.473</td>\n",
       "      <td>1.0</td>\n",
       "      <td>7.0</td>\n",
       "      <td>7</td>\n",
       "      <td>21.168384</td>\n",
       "      <td>21.168384</td>\n",
       "      <td>pobre</td>\n",
       "      <td>...</td>\n",
       "      <td>6</td>\n",
       "      <td>0.0</td>\n",
       "      <td>583.0</td>\n",
       "      <td>1.0</td>\n",
       "      <td>35.0</td>\n",
       "      <td>13</td>\n",
       "      <td>163</td>\n",
       "      <td>2</td>\n",
       "      <td>6</td>\n",
       "      <td>1.0</td>\n",
       "    </tr>\n",
       "    <tr>\n",
       "      <td>4</td>\n",
       "      <td>97</td>\n",
       "      <td>0.0</td>\n",
       "      <td>0.0</td>\n",
       "      <td>4.473</td>\n",
       "      <td>1.0</td>\n",
       "      <td>2.0</td>\n",
       "      <td>7</td>\n",
       "      <td>21.168384</td>\n",
       "      <td>21.168384</td>\n",
       "      <td>pobre</td>\n",
       "      <td>...</td>\n",
       "      <td>6</td>\n",
       "      <td>0.0</td>\n",
       "      <td>583.0</td>\n",
       "      <td>1.0</td>\n",
       "      <td>35.0</td>\n",
       "      <td>8</td>\n",
       "      <td>163</td>\n",
       "      <td>3</td>\n",
       "      <td>2</td>\n",
       "      <td>1.0</td>\n",
       "    </tr>\n",
       "  </tbody>\n",
       "</table>\n",
       "<p>5 rows × 21 columns</p>\n",
       "</div>"
      ],
      "text/plain": [
       "   year  sex  indig  dist_sec   sc  grc  fam_n   min_dist   dist_cap   poor  \\\n",
       "0    97  0.0    0.0     4.473  1.0  7.0      7  21.168384  21.168384  pobre   \n",
       "1    98  0.0    0.0     4.473  1.0  8.0      7  21.168384  21.168384  pobre   \n",
       "2    97  1.0    0.0     4.473  1.0  6.0      7  21.168384  21.168384  pobre   \n",
       "3    98  1.0    0.0     4.473  1.0  7.0      7  21.168384  21.168384  pobre   \n",
       "4    97  0.0    0.0     4.473  1.0  2.0      7  21.168384  21.168384  pobre   \n",
       "\n",
       "   ... hohedu  hohwag  welfare_index  hohsex  hohage  age  village  folnum  \\\n",
       "0  ...      6     0.0          583.0     1.0    35.0   13      163       1   \n",
       "1  ...      6     0.0          583.0     1.0    35.0   14      163       1   \n",
       "2  ...      6     0.0          583.0     1.0    35.0   12      163       2   \n",
       "3  ...      6     0.0          583.0     1.0    35.0   13      163       2   \n",
       "4  ...      6     0.0          583.0     1.0    35.0    8      163       3   \n",
       "\n",
       "   grc97  sc97  \n",
       "0      7   1.0  \n",
       "1      7   1.0  \n",
       "2      6   1.0  \n",
       "3      6   1.0  \n",
       "4      2   1.0  \n",
       "\n",
       "[5 rows x 21 columns]"
      ]
     },
     "execution_count": 108,
     "metadata": {},
     "output_type": "execute_result"
    }
   ],
   "source": [
    "df.head()"
   ]
  },
  {
   "cell_type": "code",
   "execution_count": 109,
   "metadata": {},
   "outputs": [
    {
     "name": "stdout",
     "output_type": "stream",
     "text": [
      "<class 'pandas.core.frame.DataFrame'>\n",
      "RangeIndex: 77250 entries, 0 to 77249\n",
      "Data columns (total 21 columns):\n",
      "year             77250 non-null int64\n",
      "sex              77226 non-null float64\n",
      "indig            76950 non-null float64\n",
      "dist_sec         77250 non-null float64\n",
      "sc               68797 non-null float64\n",
      "grc              70701 non-null float64\n",
      "fam_n            77250 non-null int64\n",
      "min_dist         77250 non-null float64\n",
      "dist_cap         77250 non-null float64\n",
      "poor             77250 non-null object\n",
      "progresa         77250 non-null object\n",
      "hohedu           77250 non-null int64\n",
      "hohwag           77250 non-null float64\n",
      "welfare_index    77040 non-null float64\n",
      "hohsex           77230 non-null float64\n",
      "hohage           77240 non-null float64\n",
      "age              77250 non-null int64\n",
      "village          77250 non-null int64\n",
      "folnum           77250 non-null int64\n",
      "grc97            77250 non-null int64\n",
      "sc97             73378 non-null float64\n",
      "dtypes: float64(12), int64(7), object(2)\n",
      "memory usage: 12.4+ MB\n"
     ]
    }
   ],
   "source": [
    "df.info()"
   ]
  },
  {
   "cell_type": "code",
   "execution_count": 110,
   "metadata": {},
   "outputs": [
    {
     "data": {
      "text/plain": [
       "year                0\n",
       "sex                24\n",
       "indig             300\n",
       "dist_sec            0\n",
       "sc               8453\n",
       "grc              6549\n",
       "fam_n               0\n",
       "min_dist            0\n",
       "dist_cap            0\n",
       "poor                0\n",
       "progresa            0\n",
       "hohedu              0\n",
       "hohwag              0\n",
       "welfare_index     210\n",
       "hohsex             20\n",
       "hohage             10\n",
       "age                 0\n",
       "village             0\n",
       "folnum              0\n",
       "grc97               0\n",
       "sc97             3872\n",
       "dtype: int64"
      ]
     },
     "execution_count": 110,
     "metadata": {},
     "output_type": "execute_result"
    }
   ],
   "source": [
    "df.isnull().sum()"
   ]
  },
  {
   "cell_type": "code",
   "execution_count": 111,
   "metadata": {},
   "outputs": [
    {
     "data": {
      "text/plain": [
       "0    29690\n",
       "Name: progresa, dtype: int64"
      ]
     },
     "execution_count": 111,
     "metadata": {},
     "output_type": "execute_result"
    }
   ],
   "source": [
    "#explore treatment and control size\n",
    "df['progresa'][df['progresa']!='basal'].value_counts()"
   ]
  },
  {
   "cell_type": "code",
   "execution_count": 112,
   "metadata": {},
   "outputs": [
    {
     "data": {
      "text/plain": [
       "basal    47560\n",
       "Name: progresa, dtype: int64"
      ]
     },
     "execution_count": 112,
     "metadata": {},
     "output_type": "execute_result"
    }
   ],
   "source": [
    "df['progresa'][df['progresa']=='basal'].value_counts()"
   ]
  },
  {
   "cell_type": "code",
   "execution_count": 113,
   "metadata": {},
   "outputs": [
    {
     "data": {
      "text/plain": [
       "98    38625\n",
       "97    38625\n",
       "Name: year, dtype: int64"
      ]
     },
     "execution_count": 113,
     "metadata": {},
     "output_type": "execute_result"
    }
   ],
   "source": [
    "df['year'].value_counts()"
   ]
  },
  {
   "cell_type": "code",
   "execution_count": 114,
   "metadata": {},
   "outputs": [],
   "source": [
    "df['treatment'] = df['progresa']=='basal'\n",
    "df['poor2'] =df['poor'] == 'pobre'"
   ]
  },
  {
   "cell_type": "markdown",
   "metadata": {},
   "source": [
    "Explore difference between control variables in 97 for individuals in treatment and control groups:"
   ]
  },
  {
   "cell_type": "code",
   "execution_count": 115,
   "metadata": {},
   "outputs": [],
   "source": [
    "control_pop_97 = df[(df['treatment']==False) & (df['year']==97)]\n",
    "treatment_pop_97 = df[(df['treatment']==True) & (df['year']==97)]\n",
    "control_pop_98 = df[(df['treatment']==False) & (df['year']==98)]\n",
    "treatment_pop_98 = df[(df['treatment']==True) & (df['year']==98)]"
   ]
  },
  {
   "cell_type": "code",
   "execution_count": 116,
   "metadata": {},
   "outputs": [
    {
     "data": {
      "text/plain": [
       "26352"
      ]
     },
     "execution_count": 116,
     "metadata": {},
     "output_type": "execute_result"
    }
   ],
   "source": [
    "df['sc'][df['treatment']==False].count()"
   ]
  },
  {
   "cell_type": "code",
   "execution_count": 117,
   "metadata": {
    "scrolled": true
   },
   "outputs": [
    {
     "data": {
      "text/plain": [
       "42445"
      ]
     },
     "execution_count": 117,
     "metadata": {},
     "output_type": "execute_result"
    }
   ],
   "source": [
    "df['sc'][df['treatment']==True].count()"
   ]
  },
  {
   "cell_type": "code",
   "execution_count": 118,
   "metadata": {},
   "outputs": [
    {
     "data": {
      "text/plain": [
       "year             14845\n",
       "sex              14840\n",
       "indig            14796\n",
       "dist_sec         14845\n",
       "sc               14078\n",
       "grc              14845\n",
       "fam_n            14845\n",
       "min_dist         14845\n",
       "dist_cap         14845\n",
       "poor             14845\n",
       "progresa         14845\n",
       "hohedu           14845\n",
       "hohwag           14845\n",
       "welfare_index    14751\n",
       "hohsex           14843\n",
       "hohage           14844\n",
       "age              14845\n",
       "village          14845\n",
       "folnum           14845\n",
       "grc97            14845\n",
       "sc97             14078\n",
       "treatment        14845\n",
       "poor2            14845\n",
       "dtype: int64"
      ]
     },
     "execution_count": 118,
     "metadata": {},
     "output_type": "execute_result"
    }
   ],
   "source": [
    "control_pop_97.count()"
   ]
  },
  {
   "cell_type": "code",
   "execution_count": 119,
   "metadata": {
    "scrolled": true
   },
   "outputs": [
    {
     "data": {
      "text/plain": [
       "year             14845\n",
       "sex              14840\n",
       "indig            14796\n",
       "dist_sec         14845\n",
       "sc               12274\n",
       "grc              12270\n",
       "fam_n            14845\n",
       "min_dist         14845\n",
       "dist_cap         14845\n",
       "poor             14845\n",
       "progresa         14845\n",
       "hohedu           14845\n",
       "hohwag           14845\n",
       "welfare_index    14751\n",
       "hohsex           14843\n",
       "hohage           14844\n",
       "age              14845\n",
       "village          14845\n",
       "folnum           14845\n",
       "grc97            14845\n",
       "sc97             14078\n",
       "treatment        14845\n",
       "poor2            14845\n",
       "dtype: int64"
      ]
     },
     "execution_count": 119,
     "metadata": {},
     "output_type": "execute_result"
    }
   ],
   "source": [
    "control_pop_98.count()"
   ]
  },
  {
   "cell_type": "markdown",
   "metadata": {},
   "source": [
    "While not accurate for non normal testing, confidence intervals do help give a reference point to the strength of the difference"
   ]
  },
  {
   "cell_type": "code",
   "execution_count": 120,
   "metadata": {},
   "outputs": [],
   "source": [
    "def get_95_ci(array_1, array_2):\n",
    "    sample_1_n = array_1.shape[0]\n",
    "    sample_2_n = array_2.shape[0]\n",
    "    sample_1_mean = array_1.mean()\n",
    "    sample_2_mean = array_2.mean()\n",
    "    sample_1_var = array_1.var()\n",
    "    sample_2_var = array_2.var()\n",
    "    mean_difference = sample_2_mean - sample_1_mean\n",
    "    std_err_difference = math.sqrt((sample_1_var/sample_1_n)+(sample_2_var/sample_2_n))\n",
    "    margin_of_error = 1.96 * std_err_difference\n",
    "    ci_lower = mean_difference - margin_of_error\n",
    "    ci_upper = mean_difference + margin_of_error\n",
    "    return ci_lower,ci_upper"
   ]
  },
  {
   "cell_type": "markdown",
   "metadata": {},
   "source": [
    "Remove extra columns:"
   ]
  },
  {
   "cell_type": "code",
   "execution_count": 121,
   "metadata": {},
   "outputs": [],
   "source": [
    "columns = list(df.columns.values)\n",
    "columns.remove('progresa')\n",
    "columns.remove('poor')\n",
    "columns.remove('welfare_index')\n",
    "columns.remove('sc97')\n",
    "columns.remove('village')\n",
    "columns.remove('year')\n",
    "columns.remove('treatment')\n",
    "columns.remove('folnum')\n",
    "df_columns_97 = pd.DataFrame(index=columns)"
   ]
  },
  {
   "cell_type": "markdown",
   "metadata": {},
   "source": [
    "Generate additional summary statistics:"
   ]
  },
  {
   "cell_type": "code",
   "execution_count": 122,
   "metadata": {
    "scrolled": true
   },
   "outputs": [
    {
     "name": "stderr",
     "output_type": "stream",
     "text": [
      "C:\\Users\\Public\\Anaconda\\lib\\site-packages\\scipy\\stats\\morestats.py:1676: UserWarning: p-value may not be accurate for N > 5000.\n",
      "  warnings.warn(\"p-value may not be accurate for N > 5000.\")\n"
     ]
    }
   ],
   "source": [
    "for column in columns:\n",
    "    df_columns_97.at[column, 'control shapiro stat'] = stats.shapiro(control_pop_97[column][control_pop_97[column].notna()==True])[0]\n",
    "    df_columns_97.at[column, 'treatment shapiro stat'] = stats.shapiro(treatment_pop_97[column][treatment_pop_97[column].notna()==True])[0]\n",
    "    df_columns_97.at[column, 'control mean'] = control_pop_97[column][control_pop_97[column].notna()==True].mean()\n",
    "    df_columns_97.at[column, 'treatment mean'] = treatment_pop_97[column][treatment_pop_97[column].notna()==True].mean()\n",
    "    df_columns_97.at[column, 'ttest stat'] = stats.ttest_ind(treatment_pop_97[column][treatment_pop_97[column].notna()==True],control_pop_97[column][control_pop_97[column].notna()==True])[0]\n",
    "    df_columns_97.at[column, 'ttest p-value'] = stats.ttest_ind(treatment_pop_97[column][treatment_pop_97[column].notna()==True],control_pop_97[column][control_pop_97[column].notna()==True])[1]\n",
    "    df_columns_97.at[column, 'low confidence interval'] = get_95_ci(treatment_pop_97[column][treatment_pop_97[column].notna()==True],control_pop_97[column][control_pop_97[column].notna()==True])[0]\n",
    "    df_columns_97.at[column, 'high confidence interval'] = get_95_ci(treatment_pop_97[column][treatment_pop_97[column].notna()==True],control_pop_97[column][control_pop_97[column].notna()==True])[1]"
   ]
  },
  {
   "cell_type": "code",
   "execution_count": 123,
   "metadata": {},
   "outputs": [
    {
     "data": {
      "text/html": [
       "<div>\n",
       "<style scoped>\n",
       "    .dataframe tbody tr th:only-of-type {\n",
       "        vertical-align: middle;\n",
       "    }\n",
       "\n",
       "    .dataframe tbody tr th {\n",
       "        vertical-align: top;\n",
       "    }\n",
       "\n",
       "    .dataframe thead th {\n",
       "        text-align: right;\n",
       "    }\n",
       "</style>\n",
       "<table border=\"1\" class=\"dataframe\">\n",
       "  <thead>\n",
       "    <tr style=\"text-align: right;\">\n",
       "      <th></th>\n",
       "      <th>control shapiro stat</th>\n",
       "      <th>treatment shapiro stat</th>\n",
       "      <th>control mean</th>\n",
       "      <th>treatment mean</th>\n",
       "      <th>ttest stat</th>\n",
       "      <th>ttest p-value</th>\n",
       "      <th>low confidence interval</th>\n",
       "      <th>high confidence interval</th>\n",
       "    </tr>\n",
       "  </thead>\n",
       "  <tbody>\n",
       "    <tr>\n",
       "      <td>sex</td>\n",
       "      <td>0.636643</td>\n",
       "      <td>0.636112</td>\n",
       "      <td>0.503639</td>\n",
       "      <td>0.517562</td>\n",
       "      <td>2.662668</td>\n",
       "      <td>7.755589e-03</td>\n",
       "      <td>-0.024173</td>\n",
       "      <td>-0.003673</td>\n",
       "    </tr>\n",
       "    <tr>\n",
       "      <td>indig</td>\n",
       "      <td>0.573750</td>\n",
       "      <td>0.575118</td>\n",
       "      <td>0.297040</td>\n",
       "      <td>0.299126</td>\n",
       "      <td>0.435081</td>\n",
       "      <td>6.635059e-01</td>\n",
       "      <td>-0.011479</td>\n",
       "      <td>0.007307</td>\n",
       "    </tr>\n",
       "    <tr>\n",
       "      <td>dist_sec</td>\n",
       "      <td>0.825862</td>\n",
       "      <td>0.880015</td>\n",
       "      <td>2.455722</td>\n",
       "      <td>2.395930</td>\n",
       "      <td>-2.558743</td>\n",
       "      <td>1.050891e-02</td>\n",
       "      <td>0.012284</td>\n",
       "      <td>0.107300</td>\n",
       "    </tr>\n",
       "    <tr>\n",
       "      <td>sc</td>\n",
       "      <td>0.482603</td>\n",
       "      <td>0.468299</td>\n",
       "      <td>0.806578</td>\n",
       "      <td>0.818495</td>\n",
       "      <td>2.852698</td>\n",
       "      <td>4.337409e-03</td>\n",
       "      <td>-0.020153</td>\n",
       "      <td>-0.003683</td>\n",
       "    </tr>\n",
       "    <tr>\n",
       "      <td>grc</td>\n",
       "      <td>0.948417</td>\n",
       "      <td>0.948175</td>\n",
       "      <td>3.715460</td>\n",
       "      <td>3.699075</td>\n",
       "      <td>-0.608924</td>\n",
       "      <td>5.425787e-01</td>\n",
       "      <td>-0.036425</td>\n",
       "      <td>0.069195</td>\n",
       "    </tr>\n",
       "    <tr>\n",
       "      <td>fam_n</td>\n",
       "      <td>0.955261</td>\n",
       "      <td>0.958994</td>\n",
       "      <td>7.236309</td>\n",
       "      <td>7.202860</td>\n",
       "      <td>-1.359074</td>\n",
       "      <td>1.741312e-01</td>\n",
       "      <td>-0.014945</td>\n",
       "      <td>0.081843</td>\n",
       "    </tr>\n",
       "    <tr>\n",
       "      <td>min_dist</td>\n",
       "      <td>0.943774</td>\n",
       "      <td>0.953752</td>\n",
       "      <td>101.240815</td>\n",
       "      <td>104.825087</td>\n",
       "      <td>8.148059</td>\n",
       "      <td>3.808279e-16</td>\n",
       "      <td>-4.458829</td>\n",
       "      <td>-2.709716</td>\n",
       "    </tr>\n",
       "    <tr>\n",
       "      <td>dist_cap</td>\n",
       "      <td>0.937666</td>\n",
       "      <td>0.930917</td>\n",
       "      <td>148.475099</td>\n",
       "      <td>147.174637</td>\n",
       "      <td>-1.634526</td>\n",
       "      <td>1.021567e-01</td>\n",
       "      <td>-0.291914</td>\n",
       "      <td>2.892838</td>\n",
       "    </tr>\n",
       "    <tr>\n",
       "      <td>hohedu</td>\n",
       "      <td>0.868706</td>\n",
       "      <td>0.868167</td>\n",
       "      <td>2.719097</td>\n",
       "      <td>2.798696</td>\n",
       "      <td>2.865246</td>\n",
       "      <td>4.169096e-03</td>\n",
       "      <td>-0.133641</td>\n",
       "      <td>-0.025557</td>\n",
       "    </tr>\n",
       "    <tr>\n",
       "      <td>hohwag</td>\n",
       "      <td>0.549771</td>\n",
       "      <td>0.530749</td>\n",
       "      <td>603.734434</td>\n",
       "      <td>576.529437</td>\n",
       "      <td>-3.300376</td>\n",
       "      <td>9.664290e-04</td>\n",
       "      <td>11.137117</td>\n",
       "      <td>43.272878</td>\n",
       "    </tr>\n",
       "    <tr>\n",
       "      <td>hohsex</td>\n",
       "      <td>0.293414</td>\n",
       "      <td>0.285263</td>\n",
       "      <td>0.922994</td>\n",
       "      <td>0.926552</td>\n",
       "      <td>1.292824</td>\n",
       "      <td>1.960796e-01</td>\n",
       "      <td>-0.008980</td>\n",
       "      <td>0.001863</td>\n",
       "    </tr>\n",
       "    <tr>\n",
       "      <td>hohage</td>\n",
       "      <td>0.959212</td>\n",
       "      <td>0.961561</td>\n",
       "      <td>44.769806</td>\n",
       "      <td>44.228760</td>\n",
       "      <td>-4.452007</td>\n",
       "      <td>8.530957e-06</td>\n",
       "      <td>0.300776</td>\n",
       "      <td>0.781316</td>\n",
       "    </tr>\n",
       "    <tr>\n",
       "      <td>age</td>\n",
       "      <td>0.940473</td>\n",
       "      <td>0.940829</td>\n",
       "      <td>10.889256</td>\n",
       "      <td>10.852229</td>\n",
       "      <td>-1.131634</td>\n",
       "      <td>2.577952e-01</td>\n",
       "      <td>-0.027124</td>\n",
       "      <td>0.101178</td>\n",
       "    </tr>\n",
       "    <tr>\n",
       "      <td>grc97</td>\n",
       "      <td>0.948417</td>\n",
       "      <td>0.948175</td>\n",
       "      <td>3.715460</td>\n",
       "      <td>3.699075</td>\n",
       "      <td>-0.608924</td>\n",
       "      <td>5.425787e-01</td>\n",
       "      <td>-0.036425</td>\n",
       "      <td>0.069195</td>\n",
       "    </tr>\n",
       "    <tr>\n",
       "      <td>poor2</td>\n",
       "      <td>0.440084</td>\n",
       "      <td>0.425611</td>\n",
       "      <td>0.840283</td>\n",
       "      <td>0.850378</td>\n",
       "      <td>2.677633</td>\n",
       "      <td>7.417569e-03</td>\n",
       "      <td>-0.017531</td>\n",
       "      <td>-0.002660</td>\n",
       "    </tr>\n",
       "  </tbody>\n",
       "</table>\n",
       "</div>"
      ],
      "text/plain": [
       "          control shapiro stat  treatment shapiro stat  control mean  \\\n",
       "sex                   0.636643                0.636112      0.503639   \n",
       "indig                 0.573750                0.575118      0.297040   \n",
       "dist_sec              0.825862                0.880015      2.455722   \n",
       "sc                    0.482603                0.468299      0.806578   \n",
       "grc                   0.948417                0.948175      3.715460   \n",
       "fam_n                 0.955261                0.958994      7.236309   \n",
       "min_dist              0.943774                0.953752    101.240815   \n",
       "dist_cap              0.937666                0.930917    148.475099   \n",
       "hohedu                0.868706                0.868167      2.719097   \n",
       "hohwag                0.549771                0.530749    603.734434   \n",
       "hohsex                0.293414                0.285263      0.922994   \n",
       "hohage                0.959212                0.961561     44.769806   \n",
       "age                   0.940473                0.940829     10.889256   \n",
       "grc97                 0.948417                0.948175      3.715460   \n",
       "poor2                 0.440084                0.425611      0.840283   \n",
       "\n",
       "          treatment mean  ttest stat  ttest p-value  low confidence interval  \\\n",
       "sex             0.517562    2.662668   7.755589e-03                -0.024173   \n",
       "indig           0.299126    0.435081   6.635059e-01                -0.011479   \n",
       "dist_sec        2.395930   -2.558743   1.050891e-02                 0.012284   \n",
       "sc              0.818495    2.852698   4.337409e-03                -0.020153   \n",
       "grc             3.699075   -0.608924   5.425787e-01                -0.036425   \n",
       "fam_n           7.202860   -1.359074   1.741312e-01                -0.014945   \n",
       "min_dist      104.825087    8.148059   3.808279e-16                -4.458829   \n",
       "dist_cap      147.174637   -1.634526   1.021567e-01                -0.291914   \n",
       "hohedu          2.798696    2.865246   4.169096e-03                -0.133641   \n",
       "hohwag        576.529437   -3.300376   9.664290e-04                11.137117   \n",
       "hohsex          0.926552    1.292824   1.960796e-01                -0.008980   \n",
       "hohage         44.228760   -4.452007   8.530957e-06                 0.300776   \n",
       "age            10.852229   -1.131634   2.577952e-01                -0.027124   \n",
       "grc97           3.699075   -0.608924   5.425787e-01                -0.036425   \n",
       "poor2           0.850378    2.677633   7.417569e-03                -0.017531   \n",
       "\n",
       "          high confidence interval  \n",
       "sex                      -0.003673  \n",
       "indig                     0.007307  \n",
       "dist_sec                  0.107300  \n",
       "sc                       -0.003683  \n",
       "grc                       0.069195  \n",
       "fam_n                     0.081843  \n",
       "min_dist                 -2.709716  \n",
       "dist_cap                  2.892838  \n",
       "hohedu                   -0.025557  \n",
       "hohwag                   43.272878  \n",
       "hohsex                    0.001863  \n",
       "hohage                    0.781316  \n",
       "age                       0.101178  \n",
       "grc97                     0.069195  \n",
       "poor2                    -0.002660  "
      ]
     },
     "execution_count": 123,
     "metadata": {},
     "output_type": "execute_result"
    }
   ],
   "source": [
    "df_columns_97"
   ]
  },
  {
   "cell_type": "markdown",
   "metadata": {},
   "source": [
    "This chart shows a rudimentary analysis of the various control variables.  Note that the Shapiro p value is not presented due to its incompatability with the large sample size (similarly the ttest is used over the Kruskal due to the sample size.  None of these distributions should be close enough to be considered normal.  The range of values is too discrete, skewed or otherwise distributed in a nonnormal fashion.  What is worth noticing is that the ttest (ind) p values are all significant.  Despite that, almost none of these variables have a significant magnitude.  The main exception is head of household wage which has a difference of up to 43 pesos.  While a proper regression should accomodate some of these variables, we can continue with ttests knowing that the treatment and control groups are reasonably similar to make comparisons.  The confidence intervals are for reference, but are not particularly meaningful given the non normal distributions of these variables."
   ]
  },
  {
   "cell_type": "markdown",
   "metadata": {},
   "source": [
    "Additional summary statistics for Control and Treatment 98"
   ]
  },
  {
   "cell_type": "code",
   "execution_count": 124,
   "metadata": {
    "scrolled": true
   },
   "outputs": [
    {
     "name": "stderr",
     "output_type": "stream",
     "text": [
      "C:\\Users\\Public\\Anaconda\\lib\\site-packages\\scipy\\stats\\morestats.py:1676: UserWarning: p-value may not be accurate for N > 5000.\n",
      "  warnings.warn(\"p-value may not be accurate for N > 5000.\")\n"
     ]
    }
   ],
   "source": [
    "df_columns_98 = pd.DataFrame(index=columns)\n",
    "for column in columns:\n",
    "    df_columns_98.at[column, 'control shapiro stat'] = stats.shapiro(control_pop_98[column][control_pop_98[column].notna()==True])[0]\n",
    "    df_columns_98.at[column, 'treatment shapiro stat'] = stats.shapiro(treatment_pop_98[column][treatment_pop_98[column].notna()==True])[0]\n",
    "    df_columns_98.at[column, 'control mean'] = control_pop_98[column][control_pop_98[column].notna()==True].mean()\n",
    "    df_columns_98.at[column, 'treatment mean'] = treatment_pop_98[column][treatment_pop_98[column].notna()==True].mean()\n",
    "    df_columns_98.at[column, 'ttest stat'] = stats.ttest_ind(treatment_pop_98[column][treatment_pop_98[column].notna()==True],control_pop_98[column][control_pop_98[column].notna()==True])[0]\n",
    "    df_columns_98.at[column, 'ttest p-value'] = stats.ttest_ind(treatment_pop_98[column][treatment_pop_98[column].notna()==True],control_pop_98[column][control_pop_98[column].notna()==True])[1]\n",
    "    df_columns_98.at[column, 'low confidence interval'] = get_95_ci(treatment_pop_98[column][treatment_pop_98[column].notna()==True],control_pop_98[column][control_pop_98[column].notna()==True])[0]\n",
    "    df_columns_98.at[column, 'high confidence interval'] = get_95_ci(treatment_pop_98[column][treatment_pop_98[column].notna()==True],control_pop_98[column][control_pop_98[column].notna()==True])[1]"
   ]
  },
  {
   "cell_type": "code",
   "execution_count": 125,
   "metadata": {
    "scrolled": false
   },
   "outputs": [
    {
     "data": {
      "text/html": [
       "<div>\n",
       "<style scoped>\n",
       "    .dataframe tbody tr th:only-of-type {\n",
       "        vertical-align: middle;\n",
       "    }\n",
       "\n",
       "    .dataframe tbody tr th {\n",
       "        vertical-align: top;\n",
       "    }\n",
       "\n",
       "    .dataframe thead th {\n",
       "        text-align: right;\n",
       "    }\n",
       "</style>\n",
       "<table border=\"1\" class=\"dataframe\">\n",
       "  <thead>\n",
       "    <tr style=\"text-align: right;\">\n",
       "      <th></th>\n",
       "      <th>control shapiro stat</th>\n",
       "      <th>treatment shapiro stat</th>\n",
       "      <th>control mean</th>\n",
       "      <th>treatment mean</th>\n",
       "      <th>ttest stat</th>\n",
       "      <th>ttest p-value</th>\n",
       "      <th>low confidence interval</th>\n",
       "      <th>high confidence interval</th>\n",
       "    </tr>\n",
       "  </thead>\n",
       "  <tbody>\n",
       "    <tr>\n",
       "      <td>sex</td>\n",
       "      <td>0.636643</td>\n",
       "      <td>0.636112</td>\n",
       "      <td>0.503639</td>\n",
       "      <td>0.517562</td>\n",
       "      <td>2.662668</td>\n",
       "      <td>7.755589e-03</td>\n",
       "      <td>-0.024173</td>\n",
       "      <td>-0.003673</td>\n",
       "    </tr>\n",
       "    <tr>\n",
       "      <td>indig</td>\n",
       "      <td>0.573750</td>\n",
       "      <td>0.575118</td>\n",
       "      <td>0.297040</td>\n",
       "      <td>0.299126</td>\n",
       "      <td>0.435081</td>\n",
       "      <td>6.635059e-01</td>\n",
       "      <td>-0.011479</td>\n",
       "      <td>0.007307</td>\n",
       "    </tr>\n",
       "    <tr>\n",
       "      <td>dist_sec</td>\n",
       "      <td>0.825862</td>\n",
       "      <td>0.880015</td>\n",
       "      <td>2.455722</td>\n",
       "      <td>2.395930</td>\n",
       "      <td>-2.558743</td>\n",
       "      <td>1.050891e-02</td>\n",
       "      <td>0.012284</td>\n",
       "      <td>0.107300</td>\n",
       "    </tr>\n",
       "    <tr>\n",
       "      <td>sc</td>\n",
       "      <td>0.486670</td>\n",
       "      <td>0.439050</td>\n",
       "      <td>0.802917</td>\n",
       "      <td>0.841182</td>\n",
       "      <td>8.810232</td>\n",
       "      <td>1.310332e-18</td>\n",
       "      <td>-0.046949</td>\n",
       "      <td>-0.029581</td>\n",
       "    </tr>\n",
       "    <tr>\n",
       "      <td>grc</td>\n",
       "      <td>0.958339</td>\n",
       "      <td>0.959183</td>\n",
       "      <td>4.267726</td>\n",
       "      <td>4.278552</td>\n",
       "      <td>0.397456</td>\n",
       "      <td>6.910342e-01</td>\n",
       "      <td>-0.064285</td>\n",
       "      <td>0.042634</td>\n",
       "    </tr>\n",
       "    <tr>\n",
       "      <td>fam_n</td>\n",
       "      <td>0.955261</td>\n",
       "      <td>0.958994</td>\n",
       "      <td>7.236309</td>\n",
       "      <td>7.202860</td>\n",
       "      <td>-1.359074</td>\n",
       "      <td>1.741312e-01</td>\n",
       "      <td>-0.014945</td>\n",
       "      <td>0.081843</td>\n",
       "    </tr>\n",
       "    <tr>\n",
       "      <td>min_dist</td>\n",
       "      <td>0.943774</td>\n",
       "      <td>0.953752</td>\n",
       "      <td>101.240815</td>\n",
       "      <td>104.825087</td>\n",
       "      <td>8.148059</td>\n",
       "      <td>3.808279e-16</td>\n",
       "      <td>-4.458829</td>\n",
       "      <td>-2.709716</td>\n",
       "    </tr>\n",
       "    <tr>\n",
       "      <td>dist_cap</td>\n",
       "      <td>0.937666</td>\n",
       "      <td>0.930917</td>\n",
       "      <td>148.475099</td>\n",
       "      <td>147.174637</td>\n",
       "      <td>-1.634526</td>\n",
       "      <td>1.021567e-01</td>\n",
       "      <td>-0.291914</td>\n",
       "      <td>2.892838</td>\n",
       "    </tr>\n",
       "    <tr>\n",
       "      <td>hohedu</td>\n",
       "      <td>0.868706</td>\n",
       "      <td>0.868167</td>\n",
       "      <td>2.719097</td>\n",
       "      <td>2.798696</td>\n",
       "      <td>2.865246</td>\n",
       "      <td>4.169096e-03</td>\n",
       "      <td>-0.133641</td>\n",
       "      <td>-0.025557</td>\n",
       "    </tr>\n",
       "    <tr>\n",
       "      <td>hohwag</td>\n",
       "      <td>0.549771</td>\n",
       "      <td>0.530749</td>\n",
       "      <td>603.734434</td>\n",
       "      <td>576.529437</td>\n",
       "      <td>-3.300376</td>\n",
       "      <td>9.664290e-04</td>\n",
       "      <td>11.137117</td>\n",
       "      <td>43.272878</td>\n",
       "    </tr>\n",
       "    <tr>\n",
       "      <td>hohsex</td>\n",
       "      <td>0.293414</td>\n",
       "      <td>0.285263</td>\n",
       "      <td>0.922994</td>\n",
       "      <td>0.926552</td>\n",
       "      <td>1.292824</td>\n",
       "      <td>1.960796e-01</td>\n",
       "      <td>-0.008980</td>\n",
       "      <td>0.001863</td>\n",
       "    </tr>\n",
       "    <tr>\n",
       "      <td>hohage</td>\n",
       "      <td>0.959212</td>\n",
       "      <td>0.961561</td>\n",
       "      <td>44.769806</td>\n",
       "      <td>44.228760</td>\n",
       "      <td>-4.452007</td>\n",
       "      <td>8.530957e-06</td>\n",
       "      <td>0.300776</td>\n",
       "      <td>0.781316</td>\n",
       "    </tr>\n",
       "    <tr>\n",
       "      <td>age</td>\n",
       "      <td>0.940582</td>\n",
       "      <td>0.940946</td>\n",
       "      <td>11.889256</td>\n",
       "      <td>11.852229</td>\n",
       "      <td>-1.131634</td>\n",
       "      <td>2.577952e-01</td>\n",
       "      <td>-0.027124</td>\n",
       "      <td>0.101178</td>\n",
       "    </tr>\n",
       "    <tr>\n",
       "      <td>grc97</td>\n",
       "      <td>0.948417</td>\n",
       "      <td>0.948175</td>\n",
       "      <td>3.715460</td>\n",
       "      <td>3.699075</td>\n",
       "      <td>-0.608924</td>\n",
       "      <td>5.425787e-01</td>\n",
       "      <td>-0.036425</td>\n",
       "      <td>0.069195</td>\n",
       "    </tr>\n",
       "    <tr>\n",
       "      <td>poor2</td>\n",
       "      <td>0.440084</td>\n",
       "      <td>0.425611</td>\n",
       "      <td>0.840283</td>\n",
       "      <td>0.850378</td>\n",
       "      <td>2.677633</td>\n",
       "      <td>7.417569e-03</td>\n",
       "      <td>-0.017531</td>\n",
       "      <td>-0.002660</td>\n",
       "    </tr>\n",
       "  </tbody>\n",
       "</table>\n",
       "</div>"
      ],
      "text/plain": [
       "          control shapiro stat  treatment shapiro stat  control mean  \\\n",
       "sex                   0.636643                0.636112      0.503639   \n",
       "indig                 0.573750                0.575118      0.297040   \n",
       "dist_sec              0.825862                0.880015      2.455722   \n",
       "sc                    0.486670                0.439050      0.802917   \n",
       "grc                   0.958339                0.959183      4.267726   \n",
       "fam_n                 0.955261                0.958994      7.236309   \n",
       "min_dist              0.943774                0.953752    101.240815   \n",
       "dist_cap              0.937666                0.930917    148.475099   \n",
       "hohedu                0.868706                0.868167      2.719097   \n",
       "hohwag                0.549771                0.530749    603.734434   \n",
       "hohsex                0.293414                0.285263      0.922994   \n",
       "hohage                0.959212                0.961561     44.769806   \n",
       "age                   0.940582                0.940946     11.889256   \n",
       "grc97                 0.948417                0.948175      3.715460   \n",
       "poor2                 0.440084                0.425611      0.840283   \n",
       "\n",
       "          treatment mean  ttest stat  ttest p-value  low confidence interval  \\\n",
       "sex             0.517562    2.662668   7.755589e-03                -0.024173   \n",
       "indig           0.299126    0.435081   6.635059e-01                -0.011479   \n",
       "dist_sec        2.395930   -2.558743   1.050891e-02                 0.012284   \n",
       "sc              0.841182    8.810232   1.310332e-18                -0.046949   \n",
       "grc             4.278552    0.397456   6.910342e-01                -0.064285   \n",
       "fam_n           7.202860   -1.359074   1.741312e-01                -0.014945   \n",
       "min_dist      104.825087    8.148059   3.808279e-16                -4.458829   \n",
       "dist_cap      147.174637   -1.634526   1.021567e-01                -0.291914   \n",
       "hohedu          2.798696    2.865246   4.169096e-03                -0.133641   \n",
       "hohwag        576.529437   -3.300376   9.664290e-04                11.137117   \n",
       "hohsex          0.926552    1.292824   1.960796e-01                -0.008980   \n",
       "hohage         44.228760   -4.452007   8.530957e-06                 0.300776   \n",
       "age            11.852229   -1.131634   2.577952e-01                -0.027124   \n",
       "grc97           3.699075   -0.608924   5.425787e-01                -0.036425   \n",
       "poor2           0.850378    2.677633   7.417569e-03                -0.017531   \n",
       "\n",
       "          high confidence interval  \n",
       "sex                      -0.003673  \n",
       "indig                     0.007307  \n",
       "dist_sec                  0.107300  \n",
       "sc                       -0.029581  \n",
       "grc                       0.042634  \n",
       "fam_n                     0.081843  \n",
       "min_dist                 -2.709716  \n",
       "dist_cap                  2.892838  \n",
       "hohedu                   -0.025557  \n",
       "hohwag                   43.272878  \n",
       "hohsex                    0.001863  \n",
       "hohage                    0.781316  \n",
       "age                       0.101178  \n",
       "grc97                     0.069195  \n",
       "poor2                    -0.002660  "
      ]
     },
     "execution_count": 125,
     "metadata": {},
     "output_type": "execute_result"
    }
   ],
   "source": [
    "df_columns_98"
   ]
  },
  {
   "cell_type": "markdown",
   "metadata": {},
   "source": [
    "Again, while there is a statistical difference between the two groups (control 98 and treatment 98), there is not much of a difference.  Head of household wages does have a somewhat substantail difference of up to 43 pesos.  Note that for some variables, like head of household wages, the values are exactly the same because both years use the 97 survey information.  Another difference across time to point out is that any time variable increases by about a year which is natural.  A cursory look suggests that there isn't much difference across time either aside from the expected increase in time related variables."
   ]
  },
  {
   "cell_type": "markdown",
   "metadata": {},
   "source": [
    "There are a large number of null values for sc and sc97, the key variables:"
   ]
  },
  {
   "cell_type": "code",
   "execution_count": 126,
   "metadata": {},
   "outputs": [],
   "source": [
    "df_drop_sc_null = df[df['sc'].notna() & df['sc97'].notna()]"
   ]
  },
  {
   "cell_type": "code",
   "execution_count": 127,
   "metadata": {},
   "outputs": [
    {
     "name": "stdout",
     "output_type": "stream",
     "text": [
      "<class 'pandas.core.frame.DataFrame'>\n",
      "Int64Index: 67627 entries, 0 to 77249\n",
      "Data columns (total 23 columns):\n",
      "year             67627 non-null int64\n",
      "sex              67606 non-null float64\n",
      "indig            67424 non-null float64\n",
      "dist_sec         67627 non-null float64\n",
      "sc               67627 non-null float64\n",
      "grc              67553 non-null float64\n",
      "fam_n            67627 non-null int64\n",
      "min_dist         67627 non-null float64\n",
      "dist_cap         67627 non-null float64\n",
      "poor             67627 non-null object\n",
      "progresa         67627 non-null object\n",
      "hohedu           67627 non-null int64\n",
      "hohwag           67627 non-null float64\n",
      "welfare_index    67433 non-null float64\n",
      "hohsex           67609 non-null float64\n",
      "hohage           67620 non-null float64\n",
      "age              67627 non-null int64\n",
      "village          67627 non-null int64\n",
      "folnum           67627 non-null int64\n",
      "grc97            67627 non-null int64\n",
      "sc97             67627 non-null float64\n",
      "treatment        67627 non-null bool\n",
      "poor2            67627 non-null bool\n",
      "dtypes: bool(2), float64(12), int64(7), object(2)\n",
      "memory usage: 11.5+ MB\n"
     ]
    }
   ],
   "source": [
    "df_drop_sc_null.info()"
   ]
  },
  {
   "cell_type": "code",
   "execution_count": 128,
   "metadata": {
    "scrolled": true
   },
   "outputs": [
    {
     "data": {
      "text/plain": [
       "year               0\n",
       "sex               21\n",
       "indig            203\n",
       "dist_sec           0\n",
       "sc                 0\n",
       "grc               74\n",
       "fam_n              0\n",
       "min_dist           0\n",
       "dist_cap           0\n",
       "poor               0\n",
       "progresa           0\n",
       "hohedu             0\n",
       "hohwag             0\n",
       "welfare_index    194\n",
       "hohsex            18\n",
       "hohage             7\n",
       "age                0\n",
       "village            0\n",
       "folnum             0\n",
       "grc97              0\n",
       "sc97               0\n",
       "treatment          0\n",
       "poor2              0\n",
       "dtype: int64"
      ]
     },
     "execution_count": 128,
     "metadata": {},
     "output_type": "execute_result"
    }
   ],
   "source": [
    "df_drop_sc_null.isnull().sum()"
   ]
  },
  {
   "cell_type": "markdown",
   "metadata": {},
   "source": [
    "The cleaned dataframe is used to avoid counting null values for sc and sc97:"
   ]
  },
  {
   "cell_type": "code",
   "execution_count": 129,
   "metadata": {},
   "outputs": [],
   "source": [
    "df_vil = df_drop_sc_null.groupby([df.year,df.treatment,df.village]).agg({'sc': ['mean','count'],'sc97': ['mean','count'],'folnum': ['count'],'age': ['mean','count'],'sex': ['mean','count'],'poor2': ['mean','count']})"
   ]
  },
  {
   "cell_type": "code",
   "execution_count": 130,
   "metadata": {},
   "outputs": [
    {
     "data": {
      "text/html": [
       "<div>\n",
       "<style scoped>\n",
       "    .dataframe tbody tr th:only-of-type {\n",
       "        vertical-align: middle;\n",
       "    }\n",
       "\n",
       "    .dataframe tbody tr th {\n",
       "        vertical-align: top;\n",
       "    }\n",
       "\n",
       "    .dataframe thead tr th {\n",
       "        text-align: left;\n",
       "    }\n",
       "\n",
       "    .dataframe thead tr:last-of-type th {\n",
       "        text-align: right;\n",
       "    }\n",
       "</style>\n",
       "<table border=\"1\" class=\"dataframe\">\n",
       "  <thead>\n",
       "    <tr>\n",
       "      <th></th>\n",
       "      <th></th>\n",
       "      <th></th>\n",
       "      <th colspan=\"2\" halign=\"left\">sc</th>\n",
       "      <th colspan=\"2\" halign=\"left\">sc97</th>\n",
       "      <th>folnum</th>\n",
       "      <th colspan=\"2\" halign=\"left\">age</th>\n",
       "      <th colspan=\"2\" halign=\"left\">sex</th>\n",
       "      <th colspan=\"2\" halign=\"left\">poor2</th>\n",
       "    </tr>\n",
       "    <tr>\n",
       "      <th></th>\n",
       "      <th></th>\n",
       "      <th></th>\n",
       "      <th>mean</th>\n",
       "      <th>count</th>\n",
       "      <th>mean</th>\n",
       "      <th>count</th>\n",
       "      <th>count</th>\n",
       "      <th>mean</th>\n",
       "      <th>count</th>\n",
       "      <th>mean</th>\n",
       "      <th>count</th>\n",
       "      <th>mean</th>\n",
       "      <th>count</th>\n",
       "    </tr>\n",
       "    <tr>\n",
       "      <th>year</th>\n",
       "      <th>treatment</th>\n",
       "      <th>village</th>\n",
       "      <th></th>\n",
       "      <th></th>\n",
       "      <th></th>\n",
       "      <th></th>\n",
       "      <th></th>\n",
       "      <th></th>\n",
       "      <th></th>\n",
       "      <th></th>\n",
       "      <th></th>\n",
       "      <th></th>\n",
       "      <th></th>\n",
       "    </tr>\n",
       "  </thead>\n",
       "  <tbody>\n",
       "    <tr>\n",
       "      <td rowspan=\"5\" valign=\"top\">97</td>\n",
       "      <td rowspan=\"5\" valign=\"top\">False</td>\n",
       "      <td>3</td>\n",
       "      <td>0.933333</td>\n",
       "      <td>15</td>\n",
       "      <td>0.933333</td>\n",
       "      <td>15</td>\n",
       "      <td>15</td>\n",
       "      <td>9.800000</td>\n",
       "      <td>15</td>\n",
       "      <td>0.533333</td>\n",
       "      <td>15</td>\n",
       "      <td>1.000000</td>\n",
       "      <td>15</td>\n",
       "    </tr>\n",
       "    <tr>\n",
       "      <td>13</td>\n",
       "      <td>0.707317</td>\n",
       "      <td>82</td>\n",
       "      <td>0.707317</td>\n",
       "      <td>82</td>\n",
       "      <td>82</td>\n",
       "      <td>11.231707</td>\n",
       "      <td>82</td>\n",
       "      <td>0.548780</td>\n",
       "      <td>82</td>\n",
       "      <td>0.853659</td>\n",
       "      <td>82</td>\n",
       "    </tr>\n",
       "    <tr>\n",
       "      <td>16</td>\n",
       "      <td>0.800000</td>\n",
       "      <td>35</td>\n",
       "      <td>0.800000</td>\n",
       "      <td>35</td>\n",
       "      <td>35</td>\n",
       "      <td>9.885714</td>\n",
       "      <td>35</td>\n",
       "      <td>0.514286</td>\n",
       "      <td>35</td>\n",
       "      <td>0.971429</td>\n",
       "      <td>35</td>\n",
       "    </tr>\n",
       "    <tr>\n",
       "      <td>20</td>\n",
       "      <td>0.959459</td>\n",
       "      <td>74</td>\n",
       "      <td>0.959459</td>\n",
       "      <td>74</td>\n",
       "      <td>74</td>\n",
       "      <td>10.364865</td>\n",
       "      <td>74</td>\n",
       "      <td>0.567568</td>\n",
       "      <td>74</td>\n",
       "      <td>1.000000</td>\n",
       "      <td>74</td>\n",
       "    </tr>\n",
       "    <tr>\n",
       "      <td>22</td>\n",
       "      <td>0.633028</td>\n",
       "      <td>109</td>\n",
       "      <td>0.633028</td>\n",
       "      <td>109</td>\n",
       "      <td>109</td>\n",
       "      <td>10.522936</td>\n",
       "      <td>109</td>\n",
       "      <td>0.532110</td>\n",
       "      <td>109</td>\n",
       "      <td>0.880734</td>\n",
       "      <td>109</td>\n",
       "    </tr>\n",
       "    <tr>\n",
       "      <td>...</td>\n",
       "      <td>...</td>\n",
       "      <td>...</td>\n",
       "      <td>...</td>\n",
       "      <td>...</td>\n",
       "      <td>...</td>\n",
       "      <td>...</td>\n",
       "      <td>...</td>\n",
       "      <td>...</td>\n",
       "      <td>...</td>\n",
       "      <td>...</td>\n",
       "      <td>...</td>\n",
       "      <td>...</td>\n",
       "      <td>...</td>\n",
       "    </tr>\n",
       "    <tr>\n",
       "      <td rowspan=\"5\" valign=\"top\">98</td>\n",
       "      <td rowspan=\"5\" valign=\"top\">True</td>\n",
       "      <td>498</td>\n",
       "      <td>0.838710</td>\n",
       "      <td>31</td>\n",
       "      <td>0.935484</td>\n",
       "      <td>31</td>\n",
       "      <td>31</td>\n",
       "      <td>10.741935</td>\n",
       "      <td>31</td>\n",
       "      <td>0.709677</td>\n",
       "      <td>31</td>\n",
       "      <td>1.000000</td>\n",
       "      <td>31</td>\n",
       "    </tr>\n",
       "    <tr>\n",
       "      <td>499</td>\n",
       "      <td>0.784314</td>\n",
       "      <td>51</td>\n",
       "      <td>0.803922</td>\n",
       "      <td>51</td>\n",
       "      <td>51</td>\n",
       "      <td>11.156863</td>\n",
       "      <td>51</td>\n",
       "      <td>0.529412</td>\n",
       "      <td>51</td>\n",
       "      <td>0.647059</td>\n",
       "      <td>51</td>\n",
       "    </tr>\n",
       "    <tr>\n",
       "      <td>500</td>\n",
       "      <td>0.500000</td>\n",
       "      <td>14</td>\n",
       "      <td>0.642857</td>\n",
       "      <td>14</td>\n",
       "      <td>14</td>\n",
       "      <td>11.928571</td>\n",
       "      <td>14</td>\n",
       "      <td>0.357143</td>\n",
       "      <td>14</td>\n",
       "      <td>0.857143</td>\n",
       "      <td>14</td>\n",
       "    </tr>\n",
       "    <tr>\n",
       "      <td>501</td>\n",
       "      <td>0.803922</td>\n",
       "      <td>51</td>\n",
       "      <td>0.823529</td>\n",
       "      <td>51</td>\n",
       "      <td>51</td>\n",
       "      <td>10.882353</td>\n",
       "      <td>51</td>\n",
       "      <td>0.411765</td>\n",
       "      <td>51</td>\n",
       "      <td>0.960784</td>\n",
       "      <td>51</td>\n",
       "    </tr>\n",
       "    <tr>\n",
       "      <td>505</td>\n",
       "      <td>0.847826</td>\n",
       "      <td>46</td>\n",
       "      <td>0.869565</td>\n",
       "      <td>46</td>\n",
       "      <td>46</td>\n",
       "      <td>11.760870</td>\n",
       "      <td>46</td>\n",
       "      <td>0.500000</td>\n",
       "      <td>46</td>\n",
       "      <td>0.978261</td>\n",
       "      <td>46</td>\n",
       "    </tr>\n",
       "  </tbody>\n",
       "</table>\n",
       "<p>1010 rows × 11 columns</p>\n",
       "</div>"
      ],
      "text/plain": [
       "                              sc            sc97       folnum        age  \\\n",
       "                            mean count      mean count  count       mean   \n",
       "year treatment village                                                     \n",
       "97   False     3        0.933333    15  0.933333    15     15   9.800000   \n",
       "               13       0.707317    82  0.707317    82     82  11.231707   \n",
       "               16       0.800000    35  0.800000    35     35   9.885714   \n",
       "               20       0.959459    74  0.959459    74     74  10.364865   \n",
       "               22       0.633028   109  0.633028   109    109  10.522936   \n",
       "...                          ...   ...       ...   ...    ...        ...   \n",
       "98   True      498      0.838710    31  0.935484    31     31  10.741935   \n",
       "               499      0.784314    51  0.803922    51     51  11.156863   \n",
       "               500      0.500000    14  0.642857    14     14  11.928571   \n",
       "               501      0.803922    51  0.823529    51     51  10.882353   \n",
       "               505      0.847826    46  0.869565    46     46  11.760870   \n",
       "\n",
       "                                   sex           poor2        \n",
       "                       count      mean count      mean count  \n",
       "year treatment village                                        \n",
       "97   False     3          15  0.533333    15  1.000000    15  \n",
       "               13         82  0.548780    82  0.853659    82  \n",
       "               16         35  0.514286    35  0.971429    35  \n",
       "               20         74  0.567568    74  1.000000    74  \n",
       "               22        109  0.532110   109  0.880734   109  \n",
       "...                      ...       ...   ...       ...   ...  \n",
       "98   True      498        31  0.709677    31  1.000000    31  \n",
       "               499        51  0.529412    51  0.647059    51  \n",
       "               500        14  0.357143    14  0.857143    14  \n",
       "               501        51  0.411765    51  0.960784    51  \n",
       "               505        46  0.500000    46  0.978261    46  \n",
       "\n",
       "[1010 rows x 11 columns]"
      ]
     },
     "execution_count": 130,
     "metadata": {},
     "output_type": "execute_result"
    }
   ],
   "source": [
    "df_vil"
   ]
  },
  {
   "cell_type": "markdown",
   "metadata": {},
   "source": [
    "The counts are the total counts, not the count of say attending school.  The means*count will be used to determine attendance counts and the like"
   ]
  },
  {
   "cell_type": "code",
   "execution_count": 131,
   "metadata": {},
   "outputs": [],
   "source": [
    "df_vil['attendance_count']=df_vil['sc','mean']*df_vil['sc','count']\n",
    "df_vil['attendance97_count']=df_vil['sc97','mean']*df_vil['sc97','count']"
   ]
  },
  {
   "cell_type": "code",
   "execution_count": 132,
   "metadata": {},
   "outputs": [],
   "source": [
    "df_vil['sc_diff']=df_vil['attendance97_count']-df_vil['attendance_count']\n",
    "df_vil['relative_sc_diff']=df_vil['sc_diff']/df_vil['sc','count']"
   ]
  },
  {
   "cell_type": "code",
   "execution_count": 133,
   "metadata": {},
   "outputs": [
    {
     "data": {
      "text/html": [
       "<div>\n",
       "<style scoped>\n",
       "    .dataframe tbody tr th:only-of-type {\n",
       "        vertical-align: middle;\n",
       "    }\n",
       "\n",
       "    .dataframe tbody tr th {\n",
       "        vertical-align: top;\n",
       "    }\n",
       "\n",
       "    .dataframe thead tr th {\n",
       "        text-align: left;\n",
       "    }\n",
       "\n",
       "    .dataframe thead tr:last-of-type th {\n",
       "        text-align: right;\n",
       "    }\n",
       "</style>\n",
       "<table border=\"1\" class=\"dataframe\">\n",
       "  <thead>\n",
       "    <tr>\n",
       "      <th></th>\n",
       "      <th colspan=\"2\" halign=\"left\">sc</th>\n",
       "      <th colspan=\"2\" halign=\"left\">sc97</th>\n",
       "      <th>folnum</th>\n",
       "      <th colspan=\"2\" halign=\"left\">age</th>\n",
       "      <th colspan=\"2\" halign=\"left\">sex</th>\n",
       "      <th colspan=\"2\" halign=\"left\">poor2</th>\n",
       "      <th>attendance_count</th>\n",
       "      <th>attendance97_count</th>\n",
       "      <th>sc_diff</th>\n",
       "      <th>relative_sc_diff</th>\n",
       "    </tr>\n",
       "    <tr>\n",
       "      <th></th>\n",
       "      <th>mean</th>\n",
       "      <th>count</th>\n",
       "      <th>mean</th>\n",
       "      <th>count</th>\n",
       "      <th>count</th>\n",
       "      <th>mean</th>\n",
       "      <th>count</th>\n",
       "      <th>mean</th>\n",
       "      <th>count</th>\n",
       "      <th>mean</th>\n",
       "      <th>count</th>\n",
       "      <th></th>\n",
       "      <th></th>\n",
       "      <th></th>\n",
       "      <th></th>\n",
       "    </tr>\n",
       "    <tr>\n",
       "      <th>village</th>\n",
       "      <th></th>\n",
       "      <th></th>\n",
       "      <th></th>\n",
       "      <th></th>\n",
       "      <th></th>\n",
       "      <th></th>\n",
       "      <th></th>\n",
       "      <th></th>\n",
       "      <th></th>\n",
       "      <th></th>\n",
       "      <th></th>\n",
       "      <th></th>\n",
       "      <th></th>\n",
       "      <th></th>\n",
       "      <th></th>\n",
       "    </tr>\n",
       "  </thead>\n",
       "  <tbody>\n",
       "    <tr>\n",
       "      <td>3</td>\n",
       "      <td>0.909091</td>\n",
       "      <td>11</td>\n",
       "      <td>1.000000</td>\n",
       "      <td>11</td>\n",
       "      <td>11</td>\n",
       "      <td>10.181818</td>\n",
       "      <td>11</td>\n",
       "      <td>0.545455</td>\n",
       "      <td>11</td>\n",
       "      <td>1.000000</td>\n",
       "      <td>11</td>\n",
       "      <td>10.0</td>\n",
       "      <td>11.0</td>\n",
       "      <td>1.0</td>\n",
       "      <td>0.090909</td>\n",
       "    </tr>\n",
       "    <tr>\n",
       "      <td>13</td>\n",
       "      <td>0.666667</td>\n",
       "      <td>57</td>\n",
       "      <td>0.771930</td>\n",
       "      <td>57</td>\n",
       "      <td>57</td>\n",
       "      <td>11.754386</td>\n",
       "      <td>57</td>\n",
       "      <td>0.491228</td>\n",
       "      <td>57</td>\n",
       "      <td>0.824561</td>\n",
       "      <td>57</td>\n",
       "      <td>38.0</td>\n",
       "      <td>44.0</td>\n",
       "      <td>6.0</td>\n",
       "      <td>0.105263</td>\n",
       "    </tr>\n",
       "    <tr>\n",
       "      <td>16</td>\n",
       "      <td>0.827586</td>\n",
       "      <td>29</td>\n",
       "      <td>0.862069</td>\n",
       "      <td>29</td>\n",
       "      <td>29</td>\n",
       "      <td>10.551724</td>\n",
       "      <td>29</td>\n",
       "      <td>0.448276</td>\n",
       "      <td>29</td>\n",
       "      <td>0.965517</td>\n",
       "      <td>29</td>\n",
       "      <td>24.0</td>\n",
       "      <td>25.0</td>\n",
       "      <td>1.0</td>\n",
       "      <td>0.034483</td>\n",
       "    </tr>\n",
       "    <tr>\n",
       "      <td>20</td>\n",
       "      <td>0.925373</td>\n",
       "      <td>67</td>\n",
       "      <td>0.970149</td>\n",
       "      <td>67</td>\n",
       "      <td>67</td>\n",
       "      <td>11.000000</td>\n",
       "      <td>67</td>\n",
       "      <td>0.537313</td>\n",
       "      <td>67</td>\n",
       "      <td>1.000000</td>\n",
       "      <td>67</td>\n",
       "      <td>62.0</td>\n",
       "      <td>65.0</td>\n",
       "      <td>3.0</td>\n",
       "      <td>0.044776</td>\n",
       "    </tr>\n",
       "    <tr>\n",
       "      <td>22</td>\n",
       "      <td>0.630137</td>\n",
       "      <td>73</td>\n",
       "      <td>0.753425</td>\n",
       "      <td>73</td>\n",
       "      <td>73</td>\n",
       "      <td>10.986301</td>\n",
       "      <td>73</td>\n",
       "      <td>0.602740</td>\n",
       "      <td>73</td>\n",
       "      <td>0.876712</td>\n",
       "      <td>73</td>\n",
       "      <td>46.0</td>\n",
       "      <td>55.0</td>\n",
       "      <td>9.0</td>\n",
       "      <td>0.123288</td>\n",
       "    </tr>\n",
       "  </tbody>\n",
       "</table>\n",
       "</div>"
      ],
      "text/plain": [
       "               sc            sc97       folnum        age             sex  \\\n",
       "             mean count      mean count  count       mean count      mean   \n",
       "village                                                                     \n",
       "3        0.909091    11  1.000000    11     11  10.181818    11  0.545455   \n",
       "13       0.666667    57  0.771930    57     57  11.754386    57  0.491228   \n",
       "16       0.827586    29  0.862069    29     29  10.551724    29  0.448276   \n",
       "20       0.925373    67  0.970149    67     67  11.000000    67  0.537313   \n",
       "22       0.630137    73  0.753425    73     73  10.986301    73  0.602740   \n",
       "\n",
       "                  poor2       attendance_count attendance97_count sc_diff  \\\n",
       "        count      mean count                                               \n",
       "village                                                                     \n",
       "3          11  1.000000    11             10.0               11.0     1.0   \n",
       "13         57  0.824561    57             38.0               44.0     6.0   \n",
       "16         29  0.965517    29             24.0               25.0     1.0   \n",
       "20         67  1.000000    67             62.0               65.0     3.0   \n",
       "22         73  0.876712    73             46.0               55.0     9.0   \n",
       "\n",
       "        relative_sc_diff  \n",
       "                          \n",
       "village                   \n",
       "3               0.090909  \n",
       "13              0.105263  \n",
       "16              0.034483  \n",
       "20              0.044776  \n",
       "22              0.123288  "
      ]
     },
     "execution_count": 133,
     "metadata": {},
     "output_type": "execute_result"
    }
   ],
   "source": [
    "merge_treatment = df_vil.loc[(98, True)].append(df_vil.loc[(97, True)])\n",
    "merge_control = df_vil.loc[(98, False)].append(df_vil.loc[(97, False)])\n",
    "merge_treatment.head()\n",
    "merge_control.head()"
   ]
  },
  {
   "cell_type": "markdown",
   "metadata": {},
   "source": [
    "Ensure that each village is in the both the 97 and 98 groups:"
   ]
  },
  {
   "cell_type": "code",
   "execution_count": 134,
   "metadata": {},
   "outputs": [
    {
     "data": {
      "text/plain": [
       "2    320\n",
       "Name: village, dtype: int64"
      ]
     },
     "execution_count": 134,
     "metadata": {},
     "output_type": "execute_result"
    }
   ],
   "source": [
    "vil_treat_list=merge_treatment.index.value_counts()\n",
    "vil_treat_list.value_counts()"
   ]
  },
  {
   "cell_type": "code",
   "execution_count": 135,
   "metadata": {},
   "outputs": [
    {
     "data": {
      "text/plain": [
       "2    185\n",
       "Name: village, dtype: int64"
      ]
     },
     "execution_count": 135,
     "metadata": {},
     "output_type": "execute_result"
    }
   ],
   "source": [
    "vil_control_list=merge_control.index.value_counts()\n",
    "vil_control_list.value_counts()"
   ]
  },
  {
   "cell_type": "markdown",
   "metadata": {},
   "source": [
    "Mean sample size per village:"
   ]
  },
  {
   "cell_type": "code",
   "execution_count": 136,
   "metadata": {
    "scrolled": true
   },
   "outputs": [
    {
     "data": {
      "text/plain": [
       "66.95742574257426"
      ]
     },
     "execution_count": 136,
     "metadata": {},
     "output_type": "execute_result"
    }
   ],
   "source": [
    "df_vil['sc','count'].mean()"
   ]
  },
  {
   "cell_type": "markdown",
   "metadata": {},
   "source": [
    "Distribution of sample size of villages:"
   ]
  },
  {
   "cell_type": "code",
   "execution_count": 137,
   "metadata": {
    "scrolled": false
   },
   "outputs": [
    {
     "data": {
      "text/plain": [
       "<matplotlib.axes._subplots.AxesSubplot at 0x1edf5806208>"
      ]
     },
     "execution_count": 137,
     "metadata": {},
     "output_type": "execute_result"
    },
    {
     "data": {
      "image/png": "[encoded data removed]",
      "text/plain": [
       "<Figure size 432x288 with 1 Axes>"
      ]
     },
     "metadata": {
      "needs_background": "light"
     },
     "output_type": "display_data"
    }
   ],
   "source": [
    "sns.distplot(df_vil['sc','count'])"
   ]
  },
  {
   "cell_type": "code",
   "execution_count": 138,
   "metadata": {},
   "outputs": [
    {
     "name": "stdout",
     "output_type": "stream",
     "text": [
      "<class 'pandas.core.frame.DataFrame'>\n",
      "MultiIndex: 1010 entries, (97, False, 3) to (98, True, 505)\n",
      "Data columns (total 15 columns):\n",
      "(sc, mean)                1010 non-null float64\n",
      "(sc, count)               1010 non-null int64\n",
      "(sc97, mean)              1010 non-null float64\n",
      "(sc97, count)             1010 non-null int64\n",
      "(folnum, count)           1010 non-null int64\n",
      "(age, mean)               1010 non-null float64\n",
      "(age, count)              1010 non-null int64\n",
      "(sex, mean)               1010 non-null float64\n",
      "(sex, count)              1010 non-null int64\n",
      "(poor2, mean)             1010 non-null float64\n",
      "(poor2, count)            1010 non-null int64\n",
      "(attendance_count, )      1010 non-null float64\n",
      "(attendance97_count, )    1010 non-null float64\n",
      "(sc_diff, )               1010 non-null float64\n",
      "(relative_sc_diff, )      1010 non-null float64\n",
      "dtypes: float64(9), int64(6)\n",
      "memory usage: 126.6 KB\n"
     ]
    }
   ],
   "source": [
    "df_vil.info()"
   ]
  },
  {
   "cell_type": "markdown",
   "metadata": {},
   "source": [
    "establish specific grouping based on year and treatment:"
   ]
  },
  {
   "cell_type": "code",
   "execution_count": 139,
   "metadata": {},
   "outputs": [],
   "source": [
    "df_treatment_98 = df_vil.loc[(98, True)]\n",
    "df_control_98 = df_vil.loc[(98, False)]\n",
    "df_treatment_97 = df_vil.loc[(97, True)]\n",
    "df_control_97 = df_vil.loc[(97, False)]"
   ]
  },
  {
   "cell_type": "markdown",
   "metadata": {},
   "source": [
    "Run through a series of tests to help isolate the treatment effect.\n",
    "IE Assuming control and treatment have identical villages and that village characteristics haven't changed much in one year, there should be no difference between control 97 and treatment 98 and no difference between control 97 and control 98.\n",
    "There should be statistical differences between treatment 97 and treatment 98 and treatment 98 and control 98 if the the treatment does have an effect (again assuming all else equal)"
   ]
  },
  {
   "cell_type": "markdown",
   "metadata": {},
   "source": [
    "Test Village Aggregates by groups starting with Control 97 and 98:"
   ]
  },
  {
   "cell_type": "code",
   "execution_count": 140,
   "metadata": {
    "scrolled": true
   },
   "outputs": [
    {
     "data": {
      "image/png": "[encoded data removed]",
      "text/plain": [
       "<Figure size 432x288 with 1 Axes>"
      ]
     },
     "metadata": {
      "needs_background": "light"
     },
     "output_type": "display_data"
    }
   ],
   "source": [
    "title='Attendance Ratio, Control 97 and Control 98'\n",
    "fig = plt.figure()\n",
    "ax = sns.distplot(df_control_98['sc','mean'], label='Control 98')\n",
    "ax1 = sns.distplot(df_control_97['sc','mean'], label='Control 97')\n",
    "ax.set(xlabel='Attendance Ratio',title=title)\n",
    "plt.legend()\n",
    "fig.savefig(title+'plot.png')"
   ]
  },
  {
   "cell_type": "markdown",
   "metadata": {},
   "source": [
    "Test for Normality:\n",
    "While control 98 is not quite normal enough for the shapiro test, the high shapiro statistic and the low skew and kurtosis suggest that it is approximately normal.\n",
    "Control 97 passes the Shapiro test so it is normal enough."
   ]
  },
  {
   "cell_type": "code",
   "execution_count": 141,
   "metadata": {
    "scrolled": true
   },
   "outputs": [
    {
     "name": "stdout",
     "output_type": "stream",
     "text": [
      "DescribeResult(nobs=185, minmax=(0.4166666666666667, 1.0), mean=0.8013391827661084, variance=0.00927153719205734, skewness=-0.6606651220086096, kurtosis=0.7419502484482585)\n",
      "(0.9728711843490601, 0.0011490960605442524)\n",
      "DescribeResult(nobs=185, minmax=(0.5769230769230769, 1.0), mean=0.8041601616740699, variance=0.006955991208452856, skewness=-0.037236728777145636, kurtosis=-0.036990930489853024)\n",
      "(0.9931789636611938, 0.5458758473396301)\n"
     ]
    }
   ],
   "source": [
    "print(stats.describe(df_control_98['sc','mean']))\n",
    "print(stats.shapiro(df_control_98['sc','mean']))\n",
    "print(stats.describe(df_control_97['sc','mean']))\n",
    "print(stats.shapiro(df_control_97['sc','mean']))"
   ]
  },
  {
   "cell_type": "markdown",
   "metadata": {},
   "source": [
    "Run both tests for consistency:\n",
    "Neither test is statistically significant.  There is no statistical difference between the means."
   ]
  },
  {
   "cell_type": "code",
   "execution_count": 142,
   "metadata": {},
   "outputs": [
    {
     "name": "stdout",
     "output_type": "stream",
     "text": [
      "Ttest_relResult(statistic=-0.5513860411605275, pvalue=0.5820380286733704)\n",
      "WilcoxonResult(statistic=8118.0, pvalue=0.7695549526495411)\n"
     ]
    }
   ],
   "source": [
    "print(stats.ttest_rel(df_control_98['sc','mean'],df_control_97['sc','mean']))\n",
    "print(stats.wilcoxon(df_control_98['sc','mean']-df_control_97['sc','mean']))"
   ]
  },
  {
   "cell_type": "markdown",
   "metadata": {},
   "source": [
    "Test Village Aggregates for Treatment 97 and 98:"
   ]
  },
  {
   "cell_type": "code",
   "execution_count": 143,
   "metadata": {},
   "outputs": [
    {
     "data": {
      "image/png": "[encoded data removed]",
      "text/plain": [
       "<Figure size 432x288 with 1 Axes>"
      ]
     },
     "metadata": {
      "needs_background": "light"
     },
     "output_type": "display_data"
    }
   ],
   "source": [
    "title='Attendance Ratio, Treatment 97 and Treatment 98'\n",
    "fig = plt.figure()\n",
    "ax = sns.distplot(df_treatment_98['sc','mean'], label='Treatment 98')\n",
    "ax1 = sns.distplot(df_treatment_97['sc','mean'], label='Treatment 97')\n",
    "ax.set(xlabel='Attendance Ratio',title=title)\n",
    "plt.legend()\n",
    "fig.savefig(title+'plot.png')"
   ]
  },
  {
   "cell_type": "markdown",
   "metadata": {},
   "source": [
    "Test for Normality:\n",
    "Both distributions fail the shapiro test, but are still close to normal.\n"
   ]
  },
  {
   "cell_type": "code",
   "execution_count": 144,
   "metadata": {},
   "outputs": [
    {
     "name": "stdout",
     "output_type": "stream",
     "text": [
      "DescribeResult(nobs=320, minmax=(0.375, 1.0), mean=0.8261356748827747, variance=0.010325172654044241, skewness=-0.9895284815764175, kurtosis=1.4354783117363379)\n",
      "(0.9463104605674744, 2.1396995286693254e-09)\n",
      "DescribeResult(nobs=320, minmax=(0.5344827586206896, 1.0), mean=0.8086905911970266, variance=0.009190212560015797, skewness=-0.3534393990738255, kurtosis=-0.372067621450749)\n",
      "(0.98506098985672, 0.002112217713147402)\n"
     ]
    }
   ],
   "source": [
    "print(stats.describe(df_treatment_98['sc','mean']))\n",
    "print(stats.shapiro(df_treatment_98['sc','mean']))\n",
    "print(stats.describe(df_treatment_97['sc','mean']))\n",
    "print(stats.shapiro(df_treatment_97['sc','mean']))"
   ]
  },
  {
   "cell_type": "markdown",
   "metadata": {},
   "source": [
    "Run both tests for consistency:\n",
    "There is a statistical difference between the mean for treatment 98 and treatment 97 regardless of normality assumptions."
   ]
  },
  {
   "cell_type": "code",
   "execution_count": 145,
   "metadata": {},
   "outputs": [
    {
     "name": "stdout",
     "output_type": "stream",
     "text": [
      "Ttest_relResult(statistic=4.009557292695663, pvalue=7.580668163274759e-05)\n",
      "WilcoxonResult(statistic=17760.0, pvalue=2.5135652457146823e-06)\n"
     ]
    }
   ],
   "source": [
    "print(stats.ttest_rel(df_treatment_98['sc','mean'],df_treatment_97['sc','mean']))\n",
    "print(stats.wilcoxon(df_treatment_98['sc','mean']-df_treatment_97['sc','mean']))"
   ]
  },
  {
   "cell_type": "code",
   "execution_count": 146,
   "metadata": {},
   "outputs": [
    {
     "data": {
      "text/plain": [
       "(0.0021388039452362746, 0.032751363426259145)"
      ]
     },
     "execution_count": 146,
     "metadata": {},
     "output_type": "execute_result"
    }
   ],
   "source": [
    "get_95_ci(df_treatment_97['sc','mean'],df_treatment_98['sc','mean'])"
   ]
  },
  {
   "cell_type": "markdown",
   "metadata": {},
   "source": [
    "There is a difference of approximately between .002 and .033.\n",
    "Of a group of 100 students, potentially up to 3 more are enrolled after the program is initiated in treatment villages."
   ]
  },
  {
   "cell_type": "markdown",
   "metadata": {},
   "source": [
    "Test Control 97 and Treatment 97:"
   ]
  },
  {
   "cell_type": "code",
   "execution_count": 147,
   "metadata": {},
   "outputs": [
    {
     "data": {
      "image/png": "[encoded data removed]",
      "text/plain": [
       "<Figure size 432x288 with 1 Axes>"
      ]
     },
     "metadata": {
      "needs_background": "light"
     },
     "output_type": "display_data"
    }
   ],
   "source": [
    "title='Attendance Ratio, Control 97 and Treatment 97'\n",
    "fig = plt.figure()\n",
    "ax = sns.distplot(df_control_97['sc','mean'], label='Control 97')\n",
    "ax1 = sns.distplot(df_treatment_97['sc','mean'], label='Treatment 97')\n",
    "ax.set(xlabel='Attendance Ratio',title=title)\n",
    "plt.legend()\n",
    "fig.savefig(title+'plot.png')"
   ]
  },
  {
   "cell_type": "markdown",
   "metadata": {},
   "source": [
    "Test for Normality:\n",
    "As mentioned above, treatment 97 is close to normal despite failing the shapiro test while control 97 passes the test."
   ]
  },
  {
   "cell_type": "code",
   "execution_count": 148,
   "metadata": {},
   "outputs": [
    {
     "name": "stdout",
     "output_type": "stream",
     "text": [
      "DescribeResult(nobs=320, minmax=(0.5344827586206896, 1.0), mean=0.8086905911970266, variance=0.009190212560015797, skewness=-0.3534393990738255, kurtosis=-0.372067621450749)\n",
      "(0.98506098985672, 0.002112217713147402)\n",
      "DescribeResult(nobs=185, minmax=(0.5769230769230769, 1.0), mean=0.8041601616740699, variance=0.006955991208452856, skewness=-0.037236728777145636, kurtosis=-0.036990930489853024)\n",
      "(0.9931789636611938, 0.5458758473396301)\n"
     ]
    }
   ],
   "source": [
    "print(stats.describe(df_treatment_97['sc','mean']))\n",
    "print(stats.shapiro(df_treatment_97['sc','mean']))\n",
    "print(stats.describe(df_control_97['sc','mean']))\n",
    "print(stats.shapiro(df_control_97['sc','mean']))"
   ]
  },
  {
   "cell_type": "markdown",
   "metadata": {},
   "source": [
    "Run both tests for consistency:\n",
    "No statistical difference"
   ]
  },
  {
   "cell_type": "code",
   "execution_count": 149,
   "metadata": {},
   "outputs": [
    {
     "name": "stdout",
     "output_type": "stream",
     "text": [
      "Ttest_indResult(statistic=0.5360632049168287, pvalue=0.5921518374609)\n",
      "KruskalResult(statistic=0.9587737963605347, pvalue=0.3274960123788197)\n"
     ]
    }
   ],
   "source": [
    "print(stats.ttest_ind(df_treatment_97['sc','mean'],df_control_97['sc','mean']))\n",
    "print(stats.kruskal(df_treatment_97['sc','mean'],df_control_97['sc','mean']))"
   ]
  },
  {
   "cell_type": "markdown",
   "metadata": {},
   "source": [
    "Test Control 98 and Treatment 98:"
   ]
  },
  {
   "cell_type": "code",
   "execution_count": 150,
   "metadata": {},
   "outputs": [
    {
     "data": {
      "image/png": "[encoded data removed]",
      "text/plain": [
       "<Figure size 432x288 with 1 Axes>"
      ]
     },
     "metadata": {
      "needs_background": "light"
     },
     "output_type": "display_data"
    }
   ],
   "source": [
    "title='Attendance Ratio, Control 98 and Treatment 98'\n",
    "fig = plt.figure()\n",
    "ax = sns.distplot(df_control_98['sc','mean'], label='Control 98')\n",
    "ax1 = sns.distplot(df_treatment_98['sc','mean'], label='Treatment 98')\n",
    "ax.set(xlabel='Attendance Ratio',title=title)\n",
    "plt.legend()\n",
    "fig.savefig(title+'plot.png')"
   ]
  },
  {
   "cell_type": "markdown",
   "metadata": {},
   "source": [
    "Test for Normality:\n",
    "Again, control 98 is still close to normal, but treatment 98 is not particularly normal."
   ]
  },
  {
   "cell_type": "code",
   "execution_count": 151,
   "metadata": {},
   "outputs": [
    {
     "name": "stdout",
     "output_type": "stream",
     "text": [
      "DescribeResult(nobs=185, minmax=(0.4166666666666667, 1.0), mean=0.8013391827661084, variance=0.00927153719205734, skewness=-0.6606651220086096, kurtosis=0.7419502484482585)\n",
      "(0.9728711843490601, 0.0011490960605442524)\n",
      "DescribeResult(nobs=320, minmax=(0.375, 1.0), mean=0.8261356748827747, variance=0.010325172654044241, skewness=-0.9895284815764175, kurtosis=1.4354783117363379)\n",
      "(0.9463104605674744, 2.1396995286693254e-09)\n"
     ]
    }
   ],
   "source": [
    "print(stats.describe(df_control_98['sc','mean']))\n",
    "print(stats.shapiro(df_control_98['sc','mean']))\n",
    "print(stats.describe(df_treatment_98['sc','mean']))\n",
    "print(stats.shapiro(df_treatment_98['sc','mean']))"
   ]
  },
  {
   "cell_type": "markdown",
   "metadata": {},
   "source": [
    "Run both tests for consistency:\n",
    "There is a statistical difference between the two distributions."
   ]
  },
  {
   "cell_type": "code",
   "execution_count": 152,
   "metadata": {},
   "outputs": [
    {
     "name": "stdout",
     "output_type": "stream",
     "text": [
      "Ttest_indResult(statistic=2.6928845724754122, pvalue=0.007320046553386986)\n",
      "KruskalResult(statistic=10.232885926817191, pvalue=0.0013795864171528493)\n"
     ]
    }
   ],
   "source": [
    "print(stats.ttest_ind(df_treatment_98['sc','mean'],df_control_98['sc','mean']))\n",
    "print(stats.kruskal(df_treatment_98['sc','mean'],df_control_98['sc','mean']))"
   ]
  },
  {
   "cell_type": "code",
   "execution_count": 153,
   "metadata": {},
   "outputs": [
    {
     "data": {
      "text/plain": [
       "(0.00700658131767205, 0.042586402915660196)"
      ]
     },
     "execution_count": 153,
     "metadata": {},
     "output_type": "execute_result"
    }
   ],
   "source": [
    "get_95_ci(df_control_98['sc','mean'],df_treatment_98['sc','mean'])"
   ]
  },
  {
   "cell_type": "markdown",
   "metadata": {},
   "source": [
    "There is a difference of approximately between .007 and .043.\n",
    "Of a group of 100 students, potentially up to 4 more are enrolled in treatment villages in 98 than in 97."
   ]
  },
  {
   "cell_type": "markdown",
   "metadata": {},
   "source": [
    "Alternative treatment and control comparison:\n",
    "Test Control 98 and Treatment 98:"
   ]
  },
  {
   "cell_type": "code",
   "execution_count": 154,
   "metadata": {
    "scrolled": true
   },
   "outputs": [
    {
     "data": {
      "image/png": "[encoded data removed]",
      "text/plain": [
       "<Figure size 432x288 with 1 Axes>"
      ]
     },
     "metadata": {
      "needs_background": "light"
     },
     "output_type": "display_data"
    }
   ],
   "source": [
    "title='Dropout Ratio, Control 98 and Treatment 98'\n",
    "fig = plt.figure()\n",
    "ax = sns.distplot(df_control_98['relative_sc_diff'], label='Control 98')\n",
    "ax1 = sns.distplot(df_treatment_98['relative_sc_diff'], label='Treatment 98')\n",
    "ax.set(xlabel='Dropout Ratio',title=title)\n",
    "plt.legend()\n",
    "fig.savefig(title+'plot.png')"
   ]
  },
  {
   "cell_type": "markdown",
   "metadata": {},
   "source": [
    "Test for Normality:\n",
    "Both distributions have particularly high kurosis values making them not normal"
   ]
  },
  {
   "cell_type": "code",
   "execution_count": 155,
   "metadata": {},
   "outputs": [
    {
     "name": "stdout",
     "output_type": "stream",
     "text": [
      "DescribeResult(nobs=185, minmax=(-0.16129032258064516, 0.29411764705882354), mean=0.059018889642281386, variance=0.0034034492542756203, skewness=0.19766731273821642, kurtosis=2.0911734251858123)\n",
      "(0.9707398414611816, 0.0006363921565935016)\n",
      "DescribeResult(nobs=320, minmax=(-0.125, 0.375), mean=0.03693810627894754, variance=0.0045133863931289125, skewness=0.837653525217751, kurtosis=2.5158375619898647)\n",
      "(0.9601488709449768, 1.163106162493932e-07)\n"
     ]
    }
   ],
   "source": [
    "print(stats.describe(df_control_98['relative_sc_diff']))\n",
    "print(stats.shapiro(df_control_98['relative_sc_diff']))\n",
    "print(stats.describe(df_treatment_98['relative_sc_diff']))\n",
    "print(stats.shapiro(df_treatment_98['relative_sc_diff']))"
   ]
  },
  {
   "cell_type": "markdown",
   "metadata": {},
   "source": [
    "Run both tests for consistency:\n",
    "There is a statistical difference between the dropout rates for control 98 and treatment 98"
   ]
  },
  {
   "cell_type": "code",
   "execution_count": 156,
   "metadata": {},
   "outputs": [
    {
     "name": "stdout",
     "output_type": "stream",
     "text": [
      "Ttest_indResult(statistic=-3.730336053883459, pvalue=0.00021299845209728202)\n",
      "KruskalResult(statistic=19.851026578129208, pvalue=8.371776200827596e-06)\n"
     ]
    }
   ],
   "source": [
    "print(stats.ttest_ind(df_treatment_98['relative_sc_diff'],df_control_98['relative_sc_diff']))\n",
    "print(stats.kruskal(df_treatment_98['relative_sc_diff'],df_control_98['relative_sc_diff']))"
   ]
  },
  {
   "cell_type": "code",
   "execution_count": 157,
   "metadata": {},
   "outputs": [
    {
     "data": {
      "text/plain": [
       "(-0.03325473553753223, -0.010906831189135652)"
      ]
     },
     "execution_count": 157,
     "metadata": {},
     "output_type": "execute_result"
    }
   ],
   "source": [
    "get_95_ci(df_control_98['relative_sc_diff'],df_treatment_98['relative_sc_diff'])"
   ]
  },
  {
   "cell_type": "markdown",
   "metadata": {},
   "source": [
    "There is a difference of approximately between -.03 and -.01.\n",
    "Of a group of 100 students, about 1 student less drops out in the treatment villages than the control villages"
   ]
  },
  {
   "cell_type": "markdown",
   "metadata": {},
   "source": [
    "#Take a look specifically at those eligible for welfare by village (ie the poor):"
   ]
  },
  {
   "cell_type": "code",
   "execution_count": 158,
   "metadata": {},
   "outputs": [],
   "source": [
    "df_poor =df_drop_sc_null[df_drop_sc_null['poor2']]\n",
    "df_vil_poor = df_poor.groupby([df_poor.year,df_poor.treatment,df_poor.village]).agg({'sc': ['mean','count'],'sc97': ['mean','count'],'folnum': ['count'],'age': ['mean','count'],'sex': ['mean','count'],'poor2': ['mean','count']})\n",
    "df_vil_poor['attendance_count']=df_vil_poor['sc','mean']*df_vil_poor['sc','count']\n",
    "df_vil_poor['attendance97_count']=df_vil_poor['sc97','mean']*df_vil_poor['sc97','count']\n",
    "df_vil_poor['sc_diff']=df_vil_poor['attendance97_count']-df_vil_poor['attendance_count']\n",
    "df_vil_poor['relative_sc_diff']=df_vil_poor['sc_diff']/df_vil_poor['sc','count']"
   ]
  },
  {
   "cell_type": "code",
   "execution_count": 159,
   "metadata": {
    "scrolled": true
   },
   "outputs": [
    {
     "data": {
      "text/html": [
       "<div>\n",
       "<style scoped>\n",
       "    .dataframe tbody tr th:only-of-type {\n",
       "        vertical-align: middle;\n",
       "    }\n",
       "\n",
       "    .dataframe tbody tr th {\n",
       "        vertical-align: top;\n",
       "    }\n",
       "\n",
       "    .dataframe thead tr th {\n",
       "        text-align: left;\n",
       "    }\n",
       "\n",
       "    .dataframe thead tr:last-of-type th {\n",
       "        text-align: right;\n",
       "    }\n",
       "</style>\n",
       "<table border=\"1\" class=\"dataframe\">\n",
       "  <thead>\n",
       "    <tr>\n",
       "      <th></th>\n",
       "      <th></th>\n",
       "      <th></th>\n",
       "      <th colspan=\"2\" halign=\"left\">sc</th>\n",
       "      <th colspan=\"2\" halign=\"left\">sc97</th>\n",
       "      <th>folnum</th>\n",
       "      <th colspan=\"2\" halign=\"left\">age</th>\n",
       "      <th colspan=\"2\" halign=\"left\">sex</th>\n",
       "      <th colspan=\"2\" halign=\"left\">poor2</th>\n",
       "      <th>attendance_count</th>\n",
       "      <th>attendance97_count</th>\n",
       "      <th>sc_diff</th>\n",
       "      <th>relative_sc_diff</th>\n",
       "    </tr>\n",
       "    <tr>\n",
       "      <th></th>\n",
       "      <th></th>\n",
       "      <th></th>\n",
       "      <th>mean</th>\n",
       "      <th>count</th>\n",
       "      <th>mean</th>\n",
       "      <th>count</th>\n",
       "      <th>count</th>\n",
       "      <th>mean</th>\n",
       "      <th>count</th>\n",
       "      <th>mean</th>\n",
       "      <th>count</th>\n",
       "      <th>mean</th>\n",
       "      <th>count</th>\n",
       "      <th></th>\n",
       "      <th></th>\n",
       "      <th></th>\n",
       "      <th></th>\n",
       "    </tr>\n",
       "    <tr>\n",
       "      <th>year</th>\n",
       "      <th>treatment</th>\n",
       "      <th>village</th>\n",
       "      <th></th>\n",
       "      <th></th>\n",
       "      <th></th>\n",
       "      <th></th>\n",
       "      <th></th>\n",
       "      <th></th>\n",
       "      <th></th>\n",
       "      <th></th>\n",
       "      <th></th>\n",
       "      <th></th>\n",
       "      <th></th>\n",
       "      <th></th>\n",
       "      <th></th>\n",
       "      <th></th>\n",
       "      <th></th>\n",
       "    </tr>\n",
       "  </thead>\n",
       "  <tbody>\n",
       "    <tr>\n",
       "      <td rowspan=\"5\" valign=\"top\">97</td>\n",
       "      <td rowspan=\"5\" valign=\"top\">False</td>\n",
       "      <td>3</td>\n",
       "      <td>0.933333</td>\n",
       "      <td>15</td>\n",
       "      <td>0.933333</td>\n",
       "      <td>15</td>\n",
       "      <td>15</td>\n",
       "      <td>9.800000</td>\n",
       "      <td>15</td>\n",
       "      <td>0.533333</td>\n",
       "      <td>15</td>\n",
       "      <td>True</td>\n",
       "      <td>15</td>\n",
       "      <td>14.0</td>\n",
       "      <td>14.0</td>\n",
       "      <td>0.0</td>\n",
       "      <td>0.000000</td>\n",
       "    </tr>\n",
       "    <tr>\n",
       "      <td>13</td>\n",
       "      <td>0.742857</td>\n",
       "      <td>70</td>\n",
       "      <td>0.742857</td>\n",
       "      <td>70</td>\n",
       "      <td>70</td>\n",
       "      <td>10.900000</td>\n",
       "      <td>70</td>\n",
       "      <td>0.600000</td>\n",
       "      <td>70</td>\n",
       "      <td>True</td>\n",
       "      <td>70</td>\n",
       "      <td>52.0</td>\n",
       "      <td>52.0</td>\n",
       "      <td>0.0</td>\n",
       "      <td>0.000000</td>\n",
       "    </tr>\n",
       "    <tr>\n",
       "      <td>16</td>\n",
       "      <td>0.794118</td>\n",
       "      <td>34</td>\n",
       "      <td>0.794118</td>\n",
       "      <td>34</td>\n",
       "      <td>34</td>\n",
       "      <td>9.941176</td>\n",
       "      <td>34</td>\n",
       "      <td>0.500000</td>\n",
       "      <td>34</td>\n",
       "      <td>True</td>\n",
       "      <td>34</td>\n",
       "      <td>27.0</td>\n",
       "      <td>27.0</td>\n",
       "      <td>0.0</td>\n",
       "      <td>0.000000</td>\n",
       "    </tr>\n",
       "    <tr>\n",
       "      <td>20</td>\n",
       "      <td>0.959459</td>\n",
       "      <td>74</td>\n",
       "      <td>0.959459</td>\n",
       "      <td>74</td>\n",
       "      <td>74</td>\n",
       "      <td>10.364865</td>\n",
       "      <td>74</td>\n",
       "      <td>0.567568</td>\n",
       "      <td>74</td>\n",
       "      <td>True</td>\n",
       "      <td>74</td>\n",
       "      <td>71.0</td>\n",
       "      <td>71.0</td>\n",
       "      <td>0.0</td>\n",
       "      <td>0.000000</td>\n",
       "    </tr>\n",
       "    <tr>\n",
       "      <td>22</td>\n",
       "      <td>0.666667</td>\n",
       "      <td>96</td>\n",
       "      <td>0.666667</td>\n",
       "      <td>96</td>\n",
       "      <td>96</td>\n",
       "      <td>10.395833</td>\n",
       "      <td>96</td>\n",
       "      <td>0.541667</td>\n",
       "      <td>96</td>\n",
       "      <td>True</td>\n",
       "      <td>96</td>\n",
       "      <td>64.0</td>\n",
       "      <td>64.0</td>\n",
       "      <td>0.0</td>\n",
       "      <td>0.000000</td>\n",
       "    </tr>\n",
       "    <tr>\n",
       "      <td>...</td>\n",
       "      <td>...</td>\n",
       "      <td>...</td>\n",
       "      <td>...</td>\n",
       "      <td>...</td>\n",
       "      <td>...</td>\n",
       "      <td>...</td>\n",
       "      <td>...</td>\n",
       "      <td>...</td>\n",
       "      <td>...</td>\n",
       "      <td>...</td>\n",
       "      <td>...</td>\n",
       "      <td>...</td>\n",
       "      <td>...</td>\n",
       "      <td>...</td>\n",
       "      <td>...</td>\n",
       "      <td>...</td>\n",
       "      <td>...</td>\n",
       "    </tr>\n",
       "    <tr>\n",
       "      <td rowspan=\"5\" valign=\"top\">98</td>\n",
       "      <td rowspan=\"5\" valign=\"top\">True</td>\n",
       "      <td>498</td>\n",
       "      <td>0.838710</td>\n",
       "      <td>31</td>\n",
       "      <td>0.935484</td>\n",
       "      <td>31</td>\n",
       "      <td>31</td>\n",
       "      <td>10.741935</td>\n",
       "      <td>31</td>\n",
       "      <td>0.709677</td>\n",
       "      <td>31</td>\n",
       "      <td>True</td>\n",
       "      <td>31</td>\n",
       "      <td>26.0</td>\n",
       "      <td>29.0</td>\n",
       "      <td>3.0</td>\n",
       "      <td>0.096774</td>\n",
       "    </tr>\n",
       "    <tr>\n",
       "      <td>499</td>\n",
       "      <td>0.848485</td>\n",
       "      <td>33</td>\n",
       "      <td>0.818182</td>\n",
       "      <td>33</td>\n",
       "      <td>33</td>\n",
       "      <td>10.848485</td>\n",
       "      <td>33</td>\n",
       "      <td>0.545455</td>\n",
       "      <td>33</td>\n",
       "      <td>True</td>\n",
       "      <td>33</td>\n",
       "      <td>28.0</td>\n",
       "      <td>27.0</td>\n",
       "      <td>-1.0</td>\n",
       "      <td>-0.030303</td>\n",
       "    </tr>\n",
       "    <tr>\n",
       "      <td>500</td>\n",
       "      <td>0.583333</td>\n",
       "      <td>12</td>\n",
       "      <td>0.750000</td>\n",
       "      <td>12</td>\n",
       "      <td>12</td>\n",
       "      <td>11.416667</td>\n",
       "      <td>12</td>\n",
       "      <td>0.416667</td>\n",
       "      <td>12</td>\n",
       "      <td>True</td>\n",
       "      <td>12</td>\n",
       "      <td>7.0</td>\n",
       "      <td>9.0</td>\n",
       "      <td>2.0</td>\n",
       "      <td>0.166667</td>\n",
       "    </tr>\n",
       "    <tr>\n",
       "      <td>501</td>\n",
       "      <td>0.795918</td>\n",
       "      <td>49</td>\n",
       "      <td>0.816327</td>\n",
       "      <td>49</td>\n",
       "      <td>49</td>\n",
       "      <td>10.979592</td>\n",
       "      <td>49</td>\n",
       "      <td>0.387755</td>\n",
       "      <td>49</td>\n",
       "      <td>True</td>\n",
       "      <td>49</td>\n",
       "      <td>39.0</td>\n",
       "      <td>40.0</td>\n",
       "      <td>1.0</td>\n",
       "      <td>0.020408</td>\n",
       "    </tr>\n",
       "    <tr>\n",
       "      <td>505</td>\n",
       "      <td>0.866667</td>\n",
       "      <td>45</td>\n",
       "      <td>0.888889</td>\n",
       "      <td>45</td>\n",
       "      <td>45</td>\n",
       "      <td>11.733333</td>\n",
       "      <td>45</td>\n",
       "      <td>0.511111</td>\n",
       "      <td>45</td>\n",
       "      <td>True</td>\n",
       "      <td>45</td>\n",
       "      <td>39.0</td>\n",
       "      <td>40.0</td>\n",
       "      <td>1.0</td>\n",
       "      <td>0.022222</td>\n",
       "    </tr>\n",
       "  </tbody>\n",
       "</table>\n",
       "<p>1010 rows × 15 columns</p>\n",
       "</div>"
      ],
      "text/plain": [
       "                              sc            sc97       folnum        age  \\\n",
       "                            mean count      mean count  count       mean   \n",
       "year treatment village                                                     \n",
       "97   False     3        0.933333    15  0.933333    15     15   9.800000   \n",
       "               13       0.742857    70  0.742857    70     70  10.900000   \n",
       "               16       0.794118    34  0.794118    34     34   9.941176   \n",
       "               20       0.959459    74  0.959459    74     74  10.364865   \n",
       "               22       0.666667    96  0.666667    96     96  10.395833   \n",
       "...                          ...   ...       ...   ...    ...        ...   \n",
       "98   True      498      0.838710    31  0.935484    31     31  10.741935   \n",
       "               499      0.848485    33  0.818182    33     33  10.848485   \n",
       "               500      0.583333    12  0.750000    12     12  11.416667   \n",
       "               501      0.795918    49  0.816327    49     49  10.979592   \n",
       "               505      0.866667    45  0.888889    45     45  11.733333   \n",
       "\n",
       "                                   sex       poor2       attendance_count  \\\n",
       "                       count      mean count  mean count                    \n",
       "year treatment village                                                      \n",
       "97   False     3          15  0.533333    15  True    15             14.0   \n",
       "               13         70  0.600000    70  True    70             52.0   \n",
       "               16         34  0.500000    34  True    34             27.0   \n",
       "               20         74  0.567568    74  True    74             71.0   \n",
       "               22         96  0.541667    96  True    96             64.0   \n",
       "...                      ...       ...   ...   ...   ...              ...   \n",
       "98   True      498        31  0.709677    31  True    31             26.0   \n",
       "               499        33  0.545455    33  True    33             28.0   \n",
       "               500        12  0.416667    12  True    12              7.0   \n",
       "               501        49  0.387755    49  True    49             39.0   \n",
       "               505        45  0.511111    45  True    45             39.0   \n",
       "\n",
       "                       attendance97_count sc_diff relative_sc_diff  \n",
       "                                                                    \n",
       "year treatment village                                              \n",
       "97   False     3                     14.0     0.0         0.000000  \n",
       "               13                    52.0     0.0         0.000000  \n",
       "               16                    27.0     0.0         0.000000  \n",
       "               20                    71.0     0.0         0.000000  \n",
       "               22                    64.0     0.0         0.000000  \n",
       "...                                   ...     ...              ...  \n",
       "98   True      498                   29.0     3.0         0.096774  \n",
       "               499                   27.0    -1.0        -0.030303  \n",
       "               500                    9.0     2.0         0.166667  \n",
       "               501                   40.0     1.0         0.020408  \n",
       "               505                   40.0     1.0         0.022222  \n",
       "\n",
       "[1010 rows x 15 columns]"
      ]
     },
     "execution_count": 159,
     "metadata": {},
     "output_type": "execute_result"
    }
   ],
   "source": [
    "df_vil_poor"
   ]
  },
  {
   "cell_type": "code",
   "execution_count": 160,
   "metadata": {},
   "outputs": [
    {
     "data": {
      "text/html": [
       "<div>\n",
       "<style scoped>\n",
       "    .dataframe tbody tr th:only-of-type {\n",
       "        vertical-align: middle;\n",
       "    }\n",
       "\n",
       "    .dataframe tbody tr th {\n",
       "        vertical-align: top;\n",
       "    }\n",
       "\n",
       "    .dataframe thead th {\n",
       "        text-align: right;\n",
       "    }\n",
       "</style>\n",
       "<table border=\"1\" class=\"dataframe\">\n",
       "  <thead>\n",
       "    <tr style=\"text-align: right;\">\n",
       "      <th></th>\n",
       "      <th>year</th>\n",
       "      <th>sex</th>\n",
       "      <th>indig</th>\n",
       "      <th>dist_sec</th>\n",
       "      <th>sc</th>\n",
       "      <th>grc</th>\n",
       "      <th>fam_n</th>\n",
       "      <th>min_dist</th>\n",
       "      <th>dist_cap</th>\n",
       "      <th>poor</th>\n",
       "      <th>...</th>\n",
       "      <th>welfare_index</th>\n",
       "      <th>hohsex</th>\n",
       "      <th>hohage</th>\n",
       "      <th>age</th>\n",
       "      <th>village</th>\n",
       "      <th>folnum</th>\n",
       "      <th>grc97</th>\n",
       "      <th>sc97</th>\n",
       "      <th>treatment</th>\n",
       "      <th>poor2</th>\n",
       "    </tr>\n",
       "  </thead>\n",
       "  <tbody>\n",
       "    <tr>\n",
       "      <td>0</td>\n",
       "      <td>97</td>\n",
       "      <td>0.0</td>\n",
       "      <td>0.0</td>\n",
       "      <td>4.473</td>\n",
       "      <td>1.0</td>\n",
       "      <td>7.0</td>\n",
       "      <td>7</td>\n",
       "      <td>21.168384</td>\n",
       "      <td>21.168384</td>\n",
       "      <td>pobre</td>\n",
       "      <td>...</td>\n",
       "      <td>583.0</td>\n",
       "      <td>1.0</td>\n",
       "      <td>35.0</td>\n",
       "      <td>13</td>\n",
       "      <td>163</td>\n",
       "      <td>1</td>\n",
       "      <td>7</td>\n",
       "      <td>1.0</td>\n",
       "      <td>False</td>\n",
       "      <td>True</td>\n",
       "    </tr>\n",
       "    <tr>\n",
       "      <td>1</td>\n",
       "      <td>98</td>\n",
       "      <td>0.0</td>\n",
       "      <td>0.0</td>\n",
       "      <td>4.473</td>\n",
       "      <td>1.0</td>\n",
       "      <td>8.0</td>\n",
       "      <td>7</td>\n",
       "      <td>21.168384</td>\n",
       "      <td>21.168384</td>\n",
       "      <td>pobre</td>\n",
       "      <td>...</td>\n",
       "      <td>583.0</td>\n",
       "      <td>1.0</td>\n",
       "      <td>35.0</td>\n",
       "      <td>14</td>\n",
       "      <td>163</td>\n",
       "      <td>1</td>\n",
       "      <td>7</td>\n",
       "      <td>1.0</td>\n",
       "      <td>False</td>\n",
       "      <td>True</td>\n",
       "    </tr>\n",
       "    <tr>\n",
       "      <td>2</td>\n",
       "      <td>97</td>\n",
       "      <td>1.0</td>\n",
       "      <td>0.0</td>\n",
       "      <td>4.473</td>\n",
       "      <td>1.0</td>\n",
       "      <td>6.0</td>\n",
       "      <td>7</td>\n",
       "      <td>21.168384</td>\n",
       "      <td>21.168384</td>\n",
       "      <td>pobre</td>\n",
       "      <td>...</td>\n",
       "      <td>583.0</td>\n",
       "      <td>1.0</td>\n",
       "      <td>35.0</td>\n",
       "      <td>12</td>\n",
       "      <td>163</td>\n",
       "      <td>2</td>\n",
       "      <td>6</td>\n",
       "      <td>1.0</td>\n",
       "      <td>False</td>\n",
       "      <td>True</td>\n",
       "    </tr>\n",
       "    <tr>\n",
       "      <td>3</td>\n",
       "      <td>98</td>\n",
       "      <td>1.0</td>\n",
       "      <td>0.0</td>\n",
       "      <td>4.473</td>\n",
       "      <td>1.0</td>\n",
       "      <td>7.0</td>\n",
       "      <td>7</td>\n",
       "      <td>21.168384</td>\n",
       "      <td>21.168384</td>\n",
       "      <td>pobre</td>\n",
       "      <td>...</td>\n",
       "      <td>583.0</td>\n",
       "      <td>1.0</td>\n",
       "      <td>35.0</td>\n",
       "      <td>13</td>\n",
       "      <td>163</td>\n",
       "      <td>2</td>\n",
       "      <td>6</td>\n",
       "      <td>1.0</td>\n",
       "      <td>False</td>\n",
       "      <td>True</td>\n",
       "    </tr>\n",
       "    <tr>\n",
       "      <td>4</td>\n",
       "      <td>97</td>\n",
       "      <td>0.0</td>\n",
       "      <td>0.0</td>\n",
       "      <td>4.473</td>\n",
       "      <td>1.0</td>\n",
       "      <td>2.0</td>\n",
       "      <td>7</td>\n",
       "      <td>21.168384</td>\n",
       "      <td>21.168384</td>\n",
       "      <td>pobre</td>\n",
       "      <td>...</td>\n",
       "      <td>583.0</td>\n",
       "      <td>1.0</td>\n",
       "      <td>35.0</td>\n",
       "      <td>8</td>\n",
       "      <td>163</td>\n",
       "      <td>3</td>\n",
       "      <td>2</td>\n",
       "      <td>1.0</td>\n",
       "      <td>False</td>\n",
       "      <td>True</td>\n",
       "    </tr>\n",
       "  </tbody>\n",
       "</table>\n",
       "<p>5 rows × 23 columns</p>\n",
       "</div>"
      ],
      "text/plain": [
       "   year  sex  indig  dist_sec   sc  grc  fam_n   min_dist   dist_cap   poor  \\\n",
       "0    97  0.0    0.0     4.473  1.0  7.0      7  21.168384  21.168384  pobre   \n",
       "1    98  0.0    0.0     4.473  1.0  8.0      7  21.168384  21.168384  pobre   \n",
       "2    97  1.0    0.0     4.473  1.0  6.0      7  21.168384  21.168384  pobre   \n",
       "3    98  1.0    0.0     4.473  1.0  7.0      7  21.168384  21.168384  pobre   \n",
       "4    97  0.0    0.0     4.473  1.0  2.0      7  21.168384  21.168384  pobre   \n",
       "\n",
       "   ... welfare_index  hohsex  hohage  age  village  folnum  grc97  sc97  \\\n",
       "0  ...         583.0     1.0    35.0   13      163       1      7   1.0   \n",
       "1  ...         583.0     1.0    35.0   14      163       1      7   1.0   \n",
       "2  ...         583.0     1.0    35.0   12      163       2      6   1.0   \n",
       "3  ...         583.0     1.0    35.0   13      163       2      6   1.0   \n",
       "4  ...         583.0     1.0    35.0    8      163       3      2   1.0   \n",
       "\n",
       "   treatment  poor2  \n",
       "0      False   True  \n",
       "1      False   True  \n",
       "2      False   True  \n",
       "3      False   True  \n",
       "4      False   True  \n",
       "\n",
       "[5 rows x 23 columns]"
      ]
     },
     "execution_count": 160,
     "metadata": {},
     "output_type": "execute_result"
    }
   ],
   "source": [
    "df_poor.head()"
   ]
  },
  {
   "cell_type": "code",
   "execution_count": 161,
   "metadata": {},
   "outputs": [
    {
     "name": "stdout",
     "output_type": "stream",
     "text": [
      "<class 'pandas.core.frame.DataFrame'>\n",
      "MultiIndex: 1010 entries, (97, False, 3) to (98, True, 505)\n",
      "Data columns (total 15 columns):\n",
      "(sc, mean)                1010 non-null float64\n",
      "(sc, count)               1010 non-null int64\n",
      "(sc97, mean)              1010 non-null float64\n",
      "(sc97, count)             1010 non-null int64\n",
      "(folnum, count)           1010 non-null int64\n",
      "(age, mean)               1010 non-null float64\n",
      "(age, count)              1010 non-null int64\n",
      "(sex, mean)               1010 non-null float64\n",
      "(sex, count)              1010 non-null int64\n",
      "(poor2, mean)             1010 non-null bool\n",
      "(poor2, count)            1010 non-null int64\n",
      "(attendance_count, )      1010 non-null float64\n",
      "(attendance97_count, )    1010 non-null float64\n",
      "(sc_diff, )               1010 non-null float64\n",
      "(relative_sc_diff, )      1010 non-null float64\n",
      "dtypes: bool(1), float64(8), int64(6)\n",
      "memory usage: 119.6 KB\n"
     ]
    }
   ],
   "source": [
    "df_vil_poor.info()"
   ]
  },
  {
   "cell_type": "code",
   "execution_count": 162,
   "metadata": {},
   "outputs": [
    {
     "data": {
      "text/plain": [
       "<matplotlib.axes._subplots.AxesSubplot at 0x1edf47d9348>"
      ]
     },
     "execution_count": 162,
     "metadata": {},
     "output_type": "execute_result"
    },
    {
     "data": {
      "image/png": "[encoded data removed]",
      "text/plain": [
       "<Figure size 432x288 with 1 Axes>"
      ]
     },
     "metadata": {
      "needs_background": "light"
     },
     "output_type": "display_data"
    }
   ],
   "source": [
    "sns.distplot(df_vil_poor['sc','count'])"
   ]
  },
  {
   "cell_type": "code",
   "execution_count": 163,
   "metadata": {},
   "outputs": [
    {
     "data": {
      "text/plain": [
       "56.73069306930693"
      ]
     },
     "execution_count": 163,
     "metadata": {},
     "output_type": "execute_result"
    }
   ],
   "source": [
    "df_vil_poor['sc','count'].mean()"
   ]
  },
  {
   "cell_type": "code",
   "execution_count": 164,
   "metadata": {},
   "outputs": [],
   "source": [
    "poor_treatment_98 = df_vil_poor.loc[(98, True)]\n",
    "poor_control_98 = df_vil_poor.loc[(98, False)]\n",
    "poor_treatment_97 = df_vil_poor.loc[(97, True)]\n",
    "poor_control_97 = df_vil_poor.loc[(97, False)]"
   ]
  },
  {
   "cell_type": "markdown",
   "metadata": {},
   "source": [
    "Control 97 and 98 for welfare eligible students:"
   ]
  },
  {
   "cell_type": "code",
   "execution_count": 165,
   "metadata": {},
   "outputs": [
    {
     "data": {
      "image/png": "[encoded data removed]",
      "text/plain": [
       "<Figure size 432x288 with 1 Axes>"
      ]
     },
     "metadata": {
      "needs_background": "light"
     },
     "output_type": "display_data"
    }
   ],
   "source": [
    "\n",
    "title='Attendance Ratio, Control 97 and Control 98 (Poor)'\n",
    "fig = plt.figure()\n",
    "ax = sns.distplot(poor_control_97['sc','mean'], label='Control 97')\n",
    "ax1 = sns.distplot(poor_control_98['sc','mean'], label='Control 98')\n",
    "ax.set(xlabel='Attendance Ratio',title=title)\n",
    "plt.legend()\n",
    "fig.savefig(title+'plot.png')"
   ]
  },
  {
   "cell_type": "markdown",
   "metadata": {},
   "source": [
    "Test for Normality:\n",
    "While control 97 is sufficiently normal, control 98 is less so, but arguably close enough."
   ]
  },
  {
   "cell_type": "code",
   "execution_count": 166,
   "metadata": {},
   "outputs": [
    {
     "name": "stdout",
     "output_type": "stream",
     "text": [
      "DescribeResult(nobs=185, minmax=(0.6, 1.0), mean=0.8137762497441701, variance=0.007502661922755421, skewness=-0.11928930665265056, kurtosis=-0.3651952801548357)\n",
      "(0.9901792407035828, 0.23574098944664001)\n",
      "DescribeResult(nobs=185, minmax=(0.4, 1.0), mean=0.8080378111816627, variance=0.010061545290100792, skewness=-0.4921132302085343, kurtosis=0.5041724821784315)\n",
      "(0.9795902967453003, 0.008275894448161125)\n"
     ]
    }
   ],
   "source": [
    "print(stats.describe(poor_control_97['sc','mean']))\n",
    "print(stats.shapiro(poor_control_97['sc','mean']))\n",
    "print(stats.describe(poor_control_98['sc','mean']))\n",
    "print(stats.shapiro(poor_control_98['sc','mean']))"
   ]
  },
  {
   "cell_type": "markdown",
   "metadata": {},
   "source": [
    "Run both tests for consistency:\n",
    "There is no statistical difference between the two distibutions"
   ]
  },
  {
   "cell_type": "code",
   "execution_count": 167,
   "metadata": {},
   "outputs": [
    {
     "name": "stdout",
     "output_type": "stream",
     "text": [
      "Ttest_relResult(statistic=-1.0163849774375124, pvalue=0.3107806849628887)\n",
      "WilcoxonResult(statistic=7533.0, pvalue=0.3819906041745612)\n"
     ]
    }
   ],
   "source": [
    "print(stats.ttest_rel(poor_control_98['sc','mean'],poor_control_97['sc','mean']))\n",
    "print(stats.wilcoxon(poor_control_98['sc','mean']-poor_control_97['sc','mean']))"
   ]
  },
  {
   "cell_type": "markdown",
   "metadata": {},
   "source": [
    "Treatment 97 and 98 for welfare eligible students:"
   ]
  },
  {
   "cell_type": "code",
   "execution_count": 168,
   "metadata": {},
   "outputs": [
    {
     "data": {
      "image/png": "[encoded data removed]",
      "text/plain": [
       "<Figure size 432x288 with 1 Axes>"
      ]
     },
     "metadata": {
      "needs_background": "light"
     },
     "output_type": "display_data"
    }
   ],
   "source": [
    "title='Attendance Ratio, Treatment 97 and Treatment 98 (Poor)'\n",
    "fig = plt.figure()\n",
    "ax = sns.distplot(poor_treatment_97['sc','mean'], label='Treatment 97')\n",
    "ax1 = sns.distplot(poor_treatment_98['sc','mean'], label='Treatment 98')\n",
    "ax.set(xlabel='Attendance Ratio',title=title)\n",
    "plt.legend()\n",
    "fig.savefig(title+'plot.png')"
   ]
  },
  {
   "cell_type": "markdown",
   "metadata": {},
   "source": [
    "Test for Normality:\n",
    "While the test show nonnormality, the statistics show the distributions to be approximately normal."
   ]
  },
  {
   "cell_type": "code",
   "execution_count": 169,
   "metadata": {},
   "outputs": [
    {
     "name": "stdout",
     "output_type": "stream",
     "text": [
      "DescribeResult(nobs=320, minmax=(0.5333333333333333, 1.0), mean=0.8138394110596501, variance=0.009322450322173702, skewness=-0.4582004207729874, kurtosis=-0.1881270410278697)\n",
      "(0.9803768992424011, 0.0002299641928402707)\n",
      "DescribeResult(nobs=320, minmax=(0.42857142857142855, 1.0), mean=0.8336585039715774, variance=0.010049973815452607, skewness=-0.9214954527809902, kurtosis=1.0627422499031622)\n",
      "(0.950221836566925, 6.1720042410229325e-09)\n"
     ]
    }
   ],
   "source": [
    "print(stats.describe(poor_treatment_97['sc','mean']))\n",
    "print(stats.shapiro(poor_treatment_97['sc','mean']))\n",
    "print(stats.describe(poor_treatment_98['sc','mean']))\n",
    "print(stats.shapiro(poor_treatment_98['sc','mean']))"
   ]
  },
  {
   "cell_type": "markdown",
   "metadata": {},
   "source": [
    "Run both tests for consistency:\n",
    "There is a statistical difference between the two distibutions"
   ]
  },
  {
   "cell_type": "code",
   "execution_count": 170,
   "metadata": {},
   "outputs": [
    {
     "name": "stdout",
     "output_type": "stream",
     "text": [
      "Ttest_relResult(statistic=4.23702762838055, pvalue=2.9679997142036833e-05)\n",
      "WilcoxonResult(statistic=17466.5, pvalue=1.033991817025518e-06)\n"
     ]
    }
   ],
   "source": [
    "print(stats.ttest_rel(poor_treatment_98['sc','mean'],poor_treatment_97['sc','mean']))\n",
    "print(stats.wilcoxon(poor_treatment_98['sc','mean']-poor_treatment_97['sc','mean']))"
   ]
  },
  {
   "cell_type": "code",
   "execution_count": 171,
   "metadata": {},
   "outputs": [
    {
     "data": {
      "text/plain": [
       "(0.004568979739487862, 0.03506920608436628)"
      ]
     },
     "execution_count": 171,
     "metadata": {},
     "output_type": "execute_result"
    }
   ],
   "source": [
    "get_95_ci(poor_treatment_97['sc','mean'],poor_treatment_98['sc','mean'])"
   ]
  },
  {
   "cell_type": "markdown",
   "metadata": {},
   "source": [
    "There is a difference of approximately between .004 and .035.\n",
    "Of a group of 100 poor students, up to 3 student more are attending in 98 than 97"
   ]
  },
  {
   "cell_type": "markdown",
   "metadata": {},
   "source": [
    "Test Control 97 and Treatment 97 (poor):"
   ]
  },
  {
   "cell_type": "code",
   "execution_count": 172,
   "metadata": {},
   "outputs": [
    {
     "data": {
      "image/png": "[encoded data removed]",
      "text/plain": [
       "<Figure size 432x288 with 1 Axes>"
      ]
     },
     "metadata": {
      "needs_background": "light"
     },
     "output_type": "display_data"
    }
   ],
   "source": [
    "title='Attendance Ratio, Control 97 and Treatment 97 (Poor)'\n",
    "fig = plt.figure()\n",
    "ax = sns.distplot(poor_control_97['sc','mean'], label='Control 97')\n",
    "ax1 = sns.distplot(poor_treatment_97['sc','mean'], label='Treatment 97')\n",
    "ax.set(xlabel='Attendance Ratio',title=title)\n",
    "plt.legend()\n",
    "fig.savefig(title+'plot.png')"
   ]
  },
  {
   "cell_type": "markdown",
   "metadata": {},
   "source": [
    "Test for Normality:\n",
    "While poor control 97 passes the shapiro test, poor treatment 97 is questionable at best."
   ]
  },
  {
   "cell_type": "code",
   "execution_count": 173,
   "metadata": {},
   "outputs": [
    {
     "name": "stdout",
     "output_type": "stream",
     "text": [
      "DescribeResult(nobs=320, minmax=(0.5333333333333333, 1.0), mean=0.8138394110596501, variance=0.009322450322173702, skewness=-0.4582004207729874, kurtosis=-0.1881270410278697)\n",
      "(0.9803768992424011, 0.0002299641928402707)\n",
      "DescribeResult(nobs=185, minmax=(0.6, 1.0), mean=0.8137762497441701, variance=0.007502661922755421, skewness=-0.11928930665265056, kurtosis=-0.3651952801548357)\n",
      "(0.9901792407035828, 0.23574098944664001)\n"
     ]
    }
   ],
   "source": [
    "print(stats.describe(poor_treatment_97['sc','mean']))\n",
    "print(stats.shapiro(poor_treatment_97['sc','mean']))\n",
    "print(stats.describe(poor_control_97['sc','mean']))\n",
    "print(stats.shapiro(poor_control_97['sc','mean']))"
   ]
  },
  {
   "cell_type": "markdown",
   "metadata": {},
   "source": [
    "Run both tests for consistency:\n",
    "There is no statistical difference between the two distibutions"
   ]
  },
  {
   "cell_type": "code",
   "execution_count": 174,
   "metadata": {},
   "outputs": [
    {
     "name": "stdout",
     "output_type": "stream",
     "text": [
      "Ttest_indResult(statistic=0.007350021070489146, pvalue=0.9941384985665984)\n",
      "KruskalResult(statistic=0.26708392197095704, pvalue=0.6052946439667392)\n"
     ]
    }
   ],
   "source": [
    "print(stats.ttest_ind(poor_treatment_97['sc','mean'],poor_control_97['sc','mean']))\n",
    "print(stats.kruskal(poor_treatment_97['sc','mean'],poor_control_97['sc','mean']))"
   ]
  },
  {
   "cell_type": "markdown",
   "metadata": {},
   "source": [
    "Test Control 98 and Treatment 98 (poor):"
   ]
  },
  {
   "cell_type": "code",
   "execution_count": 175,
   "metadata": {},
   "outputs": [
    {
     "data": {
      "image/png": "[encoded data removed]",
      "text/plain": [
       "<Figure size 432x288 with 1 Axes>"
      ]
     },
     "metadata": {
      "needs_background": "light"
     },
     "output_type": "display_data"
    }
   ],
   "source": [
    "title='Attendance Ratio, Control 98 and Treatment 98 (Poor)'\n",
    "fig = plt.figure()\n",
    "ax = sns.distplot(poor_control_98['sc','mean'], label='Control 98')\n",
    "ax1 = sns.distplot(poor_treatment_98['sc','mean'], label='Treatment 98')\n",
    "ax.set(xlabel='Attendance Ratio',title=title)\n",
    "plt.legend()\n",
    "fig.savefig(title+'plot.png')"
   ]
  },
  {
   "cell_type": "markdown",
   "metadata": {},
   "source": [
    "Test for Normality:\n",
    "Normality is not supported by the tests, but the descriptive stats show approximate normality."
   ]
  },
  {
   "cell_type": "code",
   "execution_count": 176,
   "metadata": {},
   "outputs": [
    {
     "name": "stdout",
     "output_type": "stream",
     "text": [
      "DescribeResult(nobs=185, minmax=(0.4, 1.0), mean=0.8080378111816627, variance=0.010061545290100792, skewness=-0.4921132302085343, kurtosis=0.5041724821784315)\n",
      "(0.9795902967453003, 0.008275894448161125)\n",
      "DescribeResult(nobs=320, minmax=(0.42857142857142855, 1.0), mean=0.8336585039715774, variance=0.010049973815452607, skewness=-0.9214954527809902, kurtosis=1.0627422499031622)\n",
      "(0.950221836566925, 6.1720042410229325e-09)\n"
     ]
    }
   ],
   "source": [
    "print(stats.describe(poor_control_98['sc','mean']))\n",
    "print(stats.shapiro(poor_control_98['sc','mean']))\n",
    "print(stats.describe(poor_treatment_98['sc','mean']))\n",
    "print(stats.shapiro(poor_treatment_98['sc','mean']))"
   ]
  },
  {
   "cell_type": "markdown",
   "metadata": {},
   "source": [
    "Run both tests for consistency:\n",
    "There is a statistical difference between the two distibutions"
   ]
  },
  {
   "cell_type": "code",
   "execution_count": 177,
   "metadata": {},
   "outputs": [
    {
     "name": "stdout",
     "output_type": "stream",
     "text": [
      "Ttest_indResult(statistic=2.766509259450196, pvalue=0.005874531499028336)\n",
      "KruskalResult(statistic=10.057726616945176, pvalue=0.0015171031789141382)\n"
     ]
    }
   ],
   "source": [
    "print(stats.ttest_ind(poor_treatment_98['sc','mean'],poor_control_98['sc','mean']))\n",
    "print(stats.kruskal(poor_treatment_98['sc','mean'],poor_control_98['sc','mean']))"
   ]
  },
  {
   "cell_type": "code",
   "execution_count": 178,
   "metadata": {},
   "outputs": [
    {
     "data": {
      "text/plain": [
       "(0.007466299310420508, 0.043775086269408764)"
      ]
     },
     "execution_count": 178,
     "metadata": {},
     "output_type": "execute_result"
    }
   ],
   "source": [
    "get_95_ci(poor_control_98['sc','mean'],poor_treatment_98['sc','mean'])"
   ]
  },
  {
   "cell_type": "markdown",
   "metadata": {},
   "source": [
    "The village average for poor students is between ~.01 and .04 higher in treatment 98 villages than control 98 villages.\n",
    "Up to 4 more students in a village sample of 100."
   ]
  },
  {
   "cell_type": "markdown",
   "metadata": {},
   "source": [
    "Dropouts for Poor:"
   ]
  },
  {
   "cell_type": "code",
   "execution_count": 179,
   "metadata": {},
   "outputs": [
    {
     "data": {
      "image/png": "[encoded data removed]",
      "text/plain": [
       "<Figure size 432x288 with 1 Axes>"
      ]
     },
     "metadata": {
      "needs_background": "light"
     },
     "output_type": "display_data"
    }
   ],
   "source": [
    "title='Dropout Ratio, Control 98 and Treatment 98 (Poor)'\n",
    "fig = plt.figure()\n",
    "ax = sns.distplot(poor_control_98['relative_sc_diff'], label='Control 98')\n",
    "ax1 = sns.distplot(poor_treatment_98['relative_sc_diff'], label='Treatment 98')\n",
    "ax.set(xlabel='Dropout Ratio',title=title)\n",
    "plt.legend()\n",
    "fig.savefig(title+'plot.png')"
   ]
  },
  {
   "cell_type": "markdown",
   "metadata": {},
   "source": [
    "Test for Normality:"
   ]
  },
  {
   "cell_type": "code",
   "execution_count": 180,
   "metadata": {},
   "outputs": [
    {
     "name": "stdout",
     "output_type": "stream",
     "text": [
      "DescribeResult(nobs=185, minmax=(-0.14285714285714285, 0.3333333333333333), mean=0.05643699545236023, variance=0.004264038531789995, skewness=0.4893324935006219, kurtosis=1.6734835668700114)\n",
      "(0.9733818173408508, 0.0013271690113469958)\n",
      "DescribeResult(nobs=320, minmax=(-0.1875, 0.30434782608695654), mean=0.030491383487455326, variance=0.005212691642705614, skewness=0.4723184414597238, kurtosis=1.433893553781889)\n",
      "(0.976091206073761, 3.620921415858902e-05)\n"
     ]
    }
   ],
   "source": [
    "print(stats.describe(poor_control_98['relative_sc_diff']))\n",
    "print(stats.shapiro(poor_control_98['relative_sc_diff']))\n",
    "print(stats.describe(poor_treatment_98['relative_sc_diff']))\n",
    "print(stats.shapiro(poor_treatment_98['relative_sc_diff']))"
   ]
  },
  {
   "cell_type": "markdown",
   "metadata": {},
   "source": [
    "Ran both tests for consistency:\n",
    "There is a statistical difference between the means"
   ]
  },
  {
   "cell_type": "code",
   "execution_count": 181,
   "metadata": {},
   "outputs": [
    {
     "name": "stdout",
     "output_type": "stream",
     "text": [
      "Ttest_indResult(statistic=-4.027242513907709, pvalue=6.514520256709966e-05)\n",
      "KruskalResult(statistic=19.759510620654574, pvalue=8.782357435316305e-06)\n"
     ]
    }
   ],
   "source": [
    "print(stats.ttest_ind(poor_treatment_98['relative_sc_diff'],poor_control_98['relative_sc_diff']))\n",
    "print(stats.kruskal(poor_treatment_98['relative_sc_diff'],poor_control_98['relative_sc_diff']))"
   ]
  },
  {
   "cell_type": "code",
   "execution_count": 182,
   "metadata": {},
   "outputs": [
    {
     "data": {
      "text/plain": [
       "(-0.03823881545087919, -0.013652408478930667)"
      ]
     },
     "execution_count": 182,
     "metadata": {},
     "output_type": "execute_result"
    }
   ],
   "source": [
    "get_95_ci(poor_control_98['relative_sc_diff'],poor_treatment_98['relative_sc_diff'])\n"
   ]
  },
  {
   "cell_type": "markdown",
   "metadata": {},
   "source": [
    "The dropout rate is ~.014-.038 between the two distributions\n",
    "A treatment village has up to a ~.04 smaller dropout rate among poor students (up to ~4 more kids out of 100)"
   ]
  },
  {
   "cell_type": "markdown",
   "metadata": {},
   "source": [
    "#Test Treatment 97 and Treatment 98 (poor):"
   ]
  },
  {
   "cell_type": "code",
   "execution_count": 183,
   "metadata": {
    "scrolled": true
   },
   "outputs": [
    {
     "data": {
      "image/png": "[encoded data removed]",
      "text/plain": [
       "<Figure size 432x288 with 1 Axes>"
      ]
     },
     "metadata": {
      "needs_background": "light"
     },
     "output_type": "display_data"
    }
   ],
   "source": [
    "title='Attendance , Treatment 97 and Treatment 98 (Poor)'\n",
    "fig = plt.figure()\n",
    "ax = sns.distplot(poor_treatment_97['attendance_count'], label='Treatment 97')\n",
    "ax1 = sns.distplot(poor_treatment_98['attendance_count'], label='Treatment 98')\n",
    "ax.set(xlabel='Attendance',title=title)\n",
    "plt.legend()\n",
    "fig.savefig(title+'plot.png')"
   ]
  },
  {
   "cell_type": "markdown",
   "metadata": {},
   "source": [
    "Test for normality:\n",
    "Results are significant (not normal)"
   ]
  },
  {
   "cell_type": "code",
   "execution_count": 184,
   "metadata": {},
   "outputs": [
    {
     "name": "stdout",
     "output_type": "stream",
     "text": [
      "DescribeResult(nobs=320, minmax=(4.0, 275.0), mean=49.228125, variance=1356.3521845611283, skewness=2.0008780885274997, kurtosis=6.3202066536138055)\n",
      "(0.8404898643493652, 1.6289512293051614e-17)\n",
      "DescribeResult(nobs=320, minmax=(3.0, 231.0), mean=43.5125, variance=1110.7271159874608, skewness=1.9527897661640747, kurtosis=5.569190595221299)\n",
      "(0.8387312293052673, 1.3057849161524331e-17)\n"
     ]
    }
   ],
   "source": [
    "print(stats.describe(poor_treatment_97['attendance_count']))\n",
    "print(stats.shapiro(poor_treatment_97['attendance_count']))\n",
    "print(stats.describe(poor_treatment_98['attendance_count']))\n",
    "print(stats.shapiro(poor_treatment_98['attendance_count']))"
   ]
  },
  {
   "cell_type": "code",
   "execution_count": 185,
   "metadata": {},
   "outputs": [
    {
     "name": "stdout",
     "output_type": "stream",
     "text": [
      "KruskalResult(statistic=5.182052987395617, pvalue=0.02282134381843465)\n"
     ]
    }
   ],
   "source": [
    "print(stats.kruskal(poor_treatment_97['attendance_count'],poor_treatment_98['attendance_count']))"
   ]
  },
  {
   "cell_type": "markdown",
   "metadata": {},
   "source": [
    "Only the Kurskal-Wallis test is used because normality is clearly inappropriate to assume\n",
    "Results are significant"
   ]
  },
  {
   "cell_type": "code",
   "execution_count": 186,
   "metadata": {
    "scrolled": true
   },
   "outputs": [
    {
     "data": {
      "text/plain": [
       "(-11.15780167878265, -0.27344832121734175)"
      ]
     },
     "execution_count": 186,
     "metadata": {},
     "output_type": "execute_result"
    }
   ],
   "source": [
    "get_95_ci(poor_treatment_97['attendance_count'],poor_treatment_98['attendance_count'])"
   ]
  },
  {
   "cell_type": "markdown",
   "metadata": {},
   "source": [
    "Villages on average have between 0 and 11 more poor students in 97 than 98.\n",
    "Confidence Intervals are not particularly meaningful due to the non normality of the distributions and the wide variations in sample sizes by village"
   ]
  },
  {
   "cell_type": "markdown",
   "metadata": {},
   "source": [
    "Look at individual cases\n",
    "\n",
    "Analyzing at the village level gives greater weight to smaller villages with fewer cases despite helping minimize variance in other characteristics.\n",
    "\n",
    "With the tools available, the best approach is to calculate crosstabs for years 97 and 98 and compare the 2 crosstabs to each other with a chisquare test\n",
    "\n",
    "Default tests to say the categories are different do not explain much"
   ]
  },
  {
   "cell_type": "code",
   "execution_count": 187,
   "metadata": {
    "scrolled": true
   },
   "outputs": [
    {
     "name": "stdout",
     "output_type": "stream",
     "text": [
      "YEAR 97\n",
      "treatment  False   True    All\n",
      "sc                            \n",
      "0.0         2723   4104   6827\n",
      "1.0        11355  18507  29862\n",
      "All        14078  22611  36689\n",
      "treatment     False      True       All\n",
      "sc                                     \n",
      "0.0        0.074218  0.111859  0.186078\n",
      "1.0        0.309493  0.504429  0.813922\n",
      "All        0.383712  0.616288  1.000000\n"
     ]
    }
   ],
   "source": [
    "cross97 = pd.crosstab(index=df['sc'][df['year']==97],columns=df['treatment'][df['year']==97],margins=True)\n",
    "print('YEAR 97')\n",
    "print(cross97)\n",
    "cross_norm97 = pd.crosstab(index=df['sc'][df['year']==97],columns=df['treatment'][df['year']==97],margins=True,normalize=True)\n",
    "print(cross_norm97)"
   ]
  },
  {
   "cell_type": "code",
   "execution_count": 188,
   "metadata": {
    "scrolled": false
   },
   "outputs": [
    {
     "name": "stdout",
     "output_type": "stream",
     "text": [
      "YEAR 98\n",
      "treatment  False   True    All\n",
      "sc                            \n",
      "0.0         2419   3150   5569\n",
      "1.0         9855  16684  26539\n",
      "All        12274  19834  32108\n",
      "treatment     False      True       All\n",
      "sc                                     \n",
      "0.0        0.075339  0.098106  0.173446\n",
      "1.0        0.306933  0.519621  0.826554\n",
      "All        0.382272  0.617728  1.000000\n"
     ]
    }
   ],
   "source": [
    "cross98 = pd.crosstab(index=df['sc'][df['year']==98],columns=df['treatment'][df['year']==98],margins=True)\n",
    "print('YEAR 98')\n",
    "print(cross98)\n",
    "cross_norm98 = pd.crosstab(index=df['sc'][df['year']==98],columns=df['treatment'][df['year']==98],margins=True,normalize=True)\n",
    "print(cross_norm98)"
   ]
  },
  {
   "cell_type": "code",
   "execution_count": 189,
   "metadata": {
    "scrolled": true
   },
   "outputs": [
    {
     "data": {
      "text/html": [
       "<div>\n",
       "<style scoped>\n",
       "    .dataframe tbody tr th:only-of-type {\n",
       "        vertical-align: middle;\n",
       "    }\n",
       "\n",
       "    .dataframe tbody tr th {\n",
       "        vertical-align: top;\n",
       "    }\n",
       "\n",
       "    .dataframe thead th {\n",
       "        text-align: right;\n",
       "    }\n",
       "</style>\n",
       "<table border=\"1\" class=\"dataframe\">\n",
       "  <thead>\n",
       "    <tr style=\"text-align: right;\">\n",
       "      <th>treatment</th>\n",
       "      <th>False</th>\n",
       "      <th>True</th>\n",
       "      <th>All</th>\n",
       "    </tr>\n",
       "    <tr>\n",
       "      <th>sc</th>\n",
       "      <th></th>\n",
       "      <th></th>\n",
       "      <th></th>\n",
       "    </tr>\n",
       "  </thead>\n",
       "  <tbody>\n",
       "    <tr>\n",
       "      <td>0.0</td>\n",
       "      <td>2723</td>\n",
       "      <td>4104</td>\n",
       "      <td>6827</td>\n",
       "    </tr>\n",
       "    <tr>\n",
       "      <td>1.0</td>\n",
       "      <td>11355</td>\n",
       "      <td>18507</td>\n",
       "      <td>29862</td>\n",
       "    </tr>\n",
       "    <tr>\n",
       "      <td>All</td>\n",
       "      <td>14078</td>\n",
       "      <td>22611</td>\n",
       "      <td>36689</td>\n",
       "    </tr>\n",
       "  </tbody>\n",
       "</table>\n",
       "</div>"
      ],
      "text/plain": [
       "treatment  False   True    All\n",
       "sc                            \n",
       "0.0         2723   4104   6827\n",
       "1.0        11355  18507  29862\n",
       "All        14078  22611  36689"
      ]
     },
     "execution_count": 189,
     "metadata": {},
     "output_type": "execute_result"
    }
   ],
   "source": [
    "cross97"
   ]
  },
  {
   "cell_type": "code",
   "execution_count": 190,
   "metadata": {},
   "outputs": [
    {
     "name": "stdout",
     "output_type": "stream",
     "text": [
      "treatment         False          True           All\n",
      "sc                                                 \n",
      "0.0         2383.005369   3591.573278   5974.578648\n",
      "1.0         9937.211153  16196.210199  26133.421352\n",
      "All        12320.216523  19787.783477  32108.000000\n"
     ]
    }
   ],
   "source": [
    "expected_freq = cross_norm97 * df['sc'][df['year']==98].count()\n",
    "print(expected_freq)"
   ]
  },
  {
   "cell_type": "code",
   "execution_count": 191,
   "metadata": {},
   "outputs": [
    {
     "name": "stdout",
     "output_type": "stream",
     "text": [
      "treatment      False        True         All\n",
      "sc                                          \n",
      "0.0        35.994631 -441.573278 -405.578648\n",
      "1.0       -82.211153  487.789801  405.578648\n",
      "All       -46.216523   46.216523    0.000000\n"
     ]
    }
   ],
   "source": [
    "cross_diff =cross98-expected_freq\n",
    "print(cross_diff)"
   ]
  },
  {
   "cell_type": "code",
   "execution_count": 192,
   "metadata": {
    "scrolled": true
   },
   "outputs": [
    {
     "name": "stdout",
     "output_type": "stream",
     "text": [
      "treatment     False      True       All\n",
      "sc                                     \n",
      "0.0        0.014880 -0.140182 -0.072828\n",
      "1.0       -0.008342  0.029237  0.015282\n",
      "All       -0.003765  0.002330  0.000000\n"
     ]
    }
   ],
   "source": [
    "relative_diff = cross_diff/cross98\n",
    "print(relative_diff)"
   ]
  },
  {
   "cell_type": "code",
   "execution_count": 193,
   "metadata": {},
   "outputs": [
    {
     "data": {
      "text/html": [
       "<div>\n",
       "<style scoped>\n",
       "    .dataframe tbody tr th:only-of-type {\n",
       "        vertical-align: middle;\n",
       "    }\n",
       "\n",
       "    .dataframe tbody tr th {\n",
       "        vertical-align: top;\n",
       "    }\n",
       "\n",
       "    .dataframe thead th {\n",
       "        text-align: right;\n",
       "    }\n",
       "</style>\n",
       "<table border=\"1\" class=\"dataframe\">\n",
       "  <thead>\n",
       "    <tr style=\"text-align: right;\">\n",
       "      <th>treatment</th>\n",
       "      <th>False</th>\n",
       "      <th>True</th>\n",
       "      <th>All</th>\n",
       "    </tr>\n",
       "    <tr>\n",
       "      <th>sc</th>\n",
       "      <th></th>\n",
       "      <th></th>\n",
       "      <th></th>\n",
       "    </tr>\n",
       "  </thead>\n",
       "  <tbody>\n",
       "    <tr>\n",
       "      <td>0.0</td>\n",
       "      <td>35.994631</td>\n",
       "      <td>-441.573278</td>\n",
       "      <td>-405.578648</td>\n",
       "    </tr>\n",
       "    <tr>\n",
       "      <td>1.0</td>\n",
       "      <td>-82.211153</td>\n",
       "      <td>487.789801</td>\n",
       "      <td>405.578648</td>\n",
       "    </tr>\n",
       "    <tr>\n",
       "      <td>All</td>\n",
       "      <td>-46.216523</td>\n",
       "      <td>46.216523</td>\n",
       "      <td>0.000000</td>\n",
       "    </tr>\n",
       "  </tbody>\n",
       "</table>\n",
       "</div>"
      ],
      "text/plain": [
       "treatment      False        True         All\n",
       "sc                                          \n",
       "0.0        35.994631 -441.573278 -405.578648\n",
       "1.0       -82.211153  487.789801  405.578648\n",
       "All       -46.216523   46.216523    0.000000"
      ]
     },
     "execution_count": 193,
     "metadata": {},
     "output_type": "execute_result"
    }
   ],
   "source": [
    "cross_diff"
   ]
  },
  {
   "cell_type": "code",
   "execution_count": 194,
   "metadata": {},
   "outputs": [
    {
     "data": {
      "text/plain": [
       "Power_divergenceResult(statistic=array([ 1.39719761, 69.08909066, 33.82671828]), pvalue=array([4.97281603e-01, 9.94247672e-16, 4.51462263e-08]))"
      ]
     },
     "execution_count": 194,
     "metadata": {},
     "output_type": "execute_result"
    }
   ],
   "source": [
    "stats.chisquare(f_obs=cross98,f_exp=expected_freq)"
   ]
  },
  {
   "cell_type": "markdown",
   "metadata": {},
   "source": [
    "the statistically significant results show that there is a statistical difference in school attendance between 97 and 98 (accounting for difference in population size).  Looking at the 2 charts above, one can see a particularly pronounced effect for the treatment (True) column.  non-attendance dropped by ~14%, while attendence grew at a modest ~3%.  With slight opposite trends for the control group, this lends strong, but not exhaustive, evidence of the impact of the welfare program."
   ]
  },
  {
   "cell_type": "markdown",
   "metadata": {},
   "source": [
    "Look at poor (not using earlier df_poor to remove only necessary nulls):"
   ]
  },
  {
   "cell_type": "code",
   "execution_count": 195,
   "metadata": {},
   "outputs": [],
   "source": [
    "#Look at poor (not using earlier df_poor to remove only necessary nulls)\n",
    "df_poor2 = df[df['poor2']==True]"
   ]
  },
  {
   "cell_type": "code",
   "execution_count": 196,
   "metadata": {
    "scrolled": true
   },
   "outputs": [
    {
     "name": "stdout",
     "output_type": "stream",
     "text": [
      "YEAR 97\n",
      "treatment  False   True    All\n",
      "sc                            \n",
      "0.0         2176   3395   5571\n",
      "1.0         9598  15753  25351\n",
      "All        11774  19148  30922\n",
      "treatment     False      True       All\n",
      "sc                                     \n",
      "0.0        0.070371  0.109792  0.180163\n",
      "1.0        0.310394  0.509443  0.819837\n",
      "All        0.380765  0.619235  1.000000\n"
     ]
    }
   ],
   "source": [
    "poor_cross97 = pd.crosstab(index=df_poor2['sc'][df_poor2['year']==97],columns=df_poor2['treatment'][df_poor2['year']==97],margins=True)\n",
    "print('YEAR 97')\n",
    "print(poor_cross97)\n",
    "poor_cross_norm97 = pd.crosstab(index=df_poor2['sc'][df_poor2['year']==97],columns=df_poor2['treatment'][df_poor2['year']==97],margins=True,normalize=True)\n",
    "print(poor_cross_norm97)"
   ]
  },
  {
   "cell_type": "code",
   "execution_count": 197,
   "metadata": {},
   "outputs": [
    {
     "name": "stdout",
     "output_type": "stream",
     "text": [
      "YEAR 98\n",
      "treatment  False   True    All\n",
      "sc                            \n",
      "0.0         2005   2614   4619\n",
      "1.0         8418  14413  22831\n",
      "All        10423  17027  27450\n",
      "treatment     False      True      All\n",
      "sc                                    \n",
      "0.0        0.073042  0.095228  0.16827\n",
      "1.0        0.306667  0.525064  0.83173\n",
      "All        0.379709  0.620291  1.00000\n"
     ]
    }
   ],
   "source": [
    "poor_cross98 = pd.crosstab(index=df_poor2['sc'][df_poor2['year']==98],columns=df_poor2['treatment'][df_poor2['year']==98],margins=True)\n",
    "print('YEAR 98')\n",
    "print(poor_cross98)\n",
    "poor_cross_norm98 = pd.crosstab(index=df_poor2['sc'][df_poor2['year']==98],columns=df_poor2['treatment'][df_poor2['year']==98],margins=True,normalize=True)\n",
    "print(poor_cross_norm98)"
   ]
  },
  {
   "cell_type": "code",
   "execution_count": 198,
   "metadata": {},
   "outputs": [
    {
     "name": "stdout",
     "output_type": "stream",
     "text": [
      "treatment         False          True           All\n",
      "sc                                                 \n",
      "0.0         1931.673242   3013.800854   4945.474096\n",
      "1.0         8520.312399  13984.213505  22504.525904\n",
      "All        10451.985641  16998.014359  27450.000000\n"
     ]
    }
   ],
   "source": [
    "poor_expected_freq = poor_cross_norm97 * df_poor2['sc'][df_poor2['year']==98].count()\n",
    "print(poor_expected_freq)"
   ]
  },
  {
   "cell_type": "code",
   "execution_count": 199,
   "metadata": {
    "scrolled": true
   },
   "outputs": [
    {
     "name": "stdout",
     "output_type": "stream",
     "text": [
      "treatment       False        True         All\n",
      "sc                                           \n",
      "0.0         73.326758 -399.800854 -326.474096\n",
      "1.0       -102.312399  428.786495  326.474096\n",
      "All        -28.985641   28.985641    0.000000\n"
     ]
    }
   ],
   "source": [
    "poor_cross_diff =poor_cross98-poor_expected_freq\n",
    "print(poor_cross_diff)"
   ]
  },
  {
   "cell_type": "code",
   "execution_count": 200,
   "metadata": {
    "scrolled": true
   },
   "outputs": [
    {
     "name": "stdout",
     "output_type": "stream",
     "text": [
      "treatment     False      True       All\n",
      "sc                                     \n",
      "0.0        0.036572 -0.152946 -0.070681\n",
      "1.0       -0.012154  0.029750  0.014300\n",
      "All       -0.002781  0.001702  0.000000\n"
     ]
    }
   ],
   "source": [
    "poor_relative_diff = poor_cross_diff/poor_cross98\n",
    "print(poor_relative_diff)"
   ]
  },
  {
   "cell_type": "code",
   "execution_count": 201,
   "metadata": {},
   "outputs": [
    {
     "data": {
      "text/html": [
       "<div>\n",
       "<style scoped>\n",
       "    .dataframe tbody tr th:only-of-type {\n",
       "        vertical-align: middle;\n",
       "    }\n",
       "\n",
       "    .dataframe tbody tr th {\n",
       "        vertical-align: top;\n",
       "    }\n",
       "\n",
       "    .dataframe thead th {\n",
       "        text-align: right;\n",
       "    }\n",
       "</style>\n",
       "<table border=\"1\" class=\"dataframe\">\n",
       "  <thead>\n",
       "    <tr style=\"text-align: right;\">\n",
       "      <th>treatment</th>\n",
       "      <th>False</th>\n",
       "      <th>True</th>\n",
       "      <th>All</th>\n",
       "    </tr>\n",
       "    <tr>\n",
       "      <th>sc</th>\n",
       "      <th></th>\n",
       "      <th></th>\n",
       "      <th></th>\n",
       "    </tr>\n",
       "  </thead>\n",
       "  <tbody>\n",
       "    <tr>\n",
       "      <td>0.0</td>\n",
       "      <td>73.326758</td>\n",
       "      <td>-399.800854</td>\n",
       "      <td>-326.474096</td>\n",
       "    </tr>\n",
       "    <tr>\n",
       "      <td>1.0</td>\n",
       "      <td>-102.312399</td>\n",
       "      <td>428.786495</td>\n",
       "      <td>326.474096</td>\n",
       "    </tr>\n",
       "    <tr>\n",
       "      <td>All</td>\n",
       "      <td>-28.985641</td>\n",
       "      <td>28.985641</td>\n",
       "      <td>0.000000</td>\n",
       "    </tr>\n",
       "  </tbody>\n",
       "</table>\n",
       "</div>"
      ],
      "text/plain": [
       "treatment       False        True         All\n",
       "sc                                           \n",
       "0.0         73.326758 -399.800854 -326.474096\n",
       "1.0       -102.312399  428.786495  326.474096\n",
       "All        -28.985641   28.985641    0.000000"
      ]
     },
     "execution_count": 201,
     "metadata": {},
     "output_type": "execute_result"
    }
   ],
   "source": [
    "poor_cross_diff"
   ]
  },
  {
   "cell_type": "code",
   "execution_count": 202,
   "metadata": {},
   "outputs": [
    {
     "data": {
      "text/plain": [
       "Power_divergenceResult(statistic=array([ 4.09245714, 66.2332158 , 26.28826993]), pvalue=array([1.29221335e-01, 4.14610150e-15, 1.95692741e-06]))"
      ]
     },
     "execution_count": 202,
     "metadata": {},
     "output_type": "execute_result"
    }
   ],
   "source": [
    "stats.chisquare(f_obs=poor_cross98,f_exp=poor_expected_freq)"
   ]
  },
  {
   "cell_type": "markdown",
   "metadata": {},
   "source": [
    "When specifically looking at the poor (those eligble for welfare), we see a similar result where the treatment group in 98 has about ~15% fewer non-attendance and ~3% more attendance while the control group has ~3-4% more non-attendance and ~1% less attendance.  While the numbers are only slightly more pronounced than the larger population, this additional test helps reinforce that there are statistical differences between the treatment and control group in regards to attendance and that there are differences between treatment 97 and treatment 98 given the particularly high reduction in non-attendance."
   ]
  },
  {
   "cell_type": "markdown",
   "metadata": {},
   "source": [
    "Look at Treatment 97 and Treatment 98:"
   ]
  },
  {
   "cell_type": "code",
   "execution_count": 203,
   "metadata": {
    "scrolled": true
   },
   "outputs": [
    {
     "name": "stderr",
     "output_type": "stream",
     "text": [
      "C:\\Users\\Public\\Anaconda\\lib\\site-packages\\numpy\\lib\\histograms.py:824: RuntimeWarning: invalid value encountered in greater_equal\n",
      "  keep = (tmp_a >= first_edge)\n",
      "C:\\Users\\Public\\Anaconda\\lib\\site-packages\\numpy\\lib\\histograms.py:825: RuntimeWarning: invalid value encountered in less_equal\n",
      "  keep &= (tmp_a <= last_edge)\n"
     ]
    },
    {
     "data": {
      "image/png": "[encoded data removed]",
      "text/plain": [
       "<Figure size 432x288 with 1 Axes>"
      ]
     },
     "metadata": {
      "needs_background": "light"
     },
     "output_type": "display_data"
    }
   ],
   "source": [
    "title='Individual Attendance , Treatment 97 and Treatment 98'\n",
    "fig = plt.figure()\n",
    "ax = sns.distplot(treatment_pop_97['sc'], label='Treatment 97',kde=False)\n",
    "ax1 = sns.distplot(treatment_pop_98['sc'], label='Treatment 98',kde=False)\n",
    "ax.set(xlabel='Attendance',title=title)\n",
    "plt.legend()\n",
    "fig.savefig(title+'plot.png')"
   ]
  },
  {
   "cell_type": "markdown",
   "metadata": {},
   "source": [
    "No need to run normality tests:"
   ]
  },
  {
   "cell_type": "code",
   "execution_count": 204,
   "metadata": {},
   "outputs": [
    {
     "name": "stdout",
     "output_type": "stream",
     "text": [
      "0.8184954225819292\n",
      "0.841181809014823\n"
     ]
    }
   ],
   "source": [
    "print(treatment_pop_97['sc'].mean())\n",
    "print(treatment_pop_98['sc'].mean())"
   ]
  },
  {
   "cell_type": "code",
   "execution_count": 205,
   "metadata": {},
   "outputs": [
    {
     "name": "stderr",
     "output_type": "stream",
     "text": [
      "C:\\Users\\Public\\Anaconda\\lib\\site-packages\\scipy\\stats\\morestats.py:2882: RuntimeWarning: invalid value encountered in greater\n",
      "  r_plus = np.sum((d > 0) * r, axis=0)\n",
      "C:\\Users\\Public\\Anaconda\\lib\\site-packages\\scipy\\stats\\morestats.py:2883: RuntimeWarning: invalid value encountered in less\n",
      "  r_minus = np.sum((d < 0) * r, axis=0)\n"
     ]
    },
    {
     "data": {
      "text/plain": [
       "WilcoxonResult(statistic=599027.0, pvalue=0.0)"
      ]
     },
     "execution_count": 205,
     "metadata": {},
     "output_type": "execute_result"
    }
   ],
   "source": [
    "stats.wilcoxon(treatment_pop_98['sc']-treatment_pop_98['sc97'])"
   ]
  },
  {
   "cell_type": "markdown",
   "metadata": {},
   "source": [
    "Note that sc97 is approximately treatment_pop_97['sc'], but is directly paired with treatment_pop_98\n",
    "Given that the statistic and p value are very high and very low, I interpret this as an inappopriate model despite the non normality and paired data (too large a sample)."
   ]
  },
  {
   "cell_type": "markdown",
   "metadata": {},
   "source": [
    "With many different tests done here, there are a few points to reemphasize.  On a consistent basis, regardless of the unit of analysis (individual/village) or whether by attendance or dropouts, the treatment difference (treatment 97 to 98 or control 98 to treatment 98) is consistently show to be significance although the magnitude is debateable.  While controls should be accounted for more explicitly than the tests done here, the ttests for many control variable, while not a perfect tool, do support the experiment designers' goal of creating relatively similar treatment and control groups.  Without using a regression or probit model, I believe that this is about as strong a case one can make that there is a treatment effect and that it is primarily caused by the welfare program.  That being said, I am fully aware that the tests do not formally show causality or address confounding variables.  "
   ]
  }
 ],
 "metadata": {
  "kernelspec": {
   "display_name": "Python 3",
   "language": "python",
   "name": "python3"
  },
  "language_info": {
   "codemirror_mode": {
    "name": "ipython",
    "version": 3
   },
   "file_extension": ".py",
   "mimetype": "text/x-python",
   "name": "python",
   "nbconvert_exporter": "python",
   "pygments_lexer": "ipython3",
   "version": "3.7.4"
  }
 },
 "nbformat": 4,
 "nbformat_minor": 2
}
